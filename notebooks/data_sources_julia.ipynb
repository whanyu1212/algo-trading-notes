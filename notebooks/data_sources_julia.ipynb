{
 "cells": [
  {
   "cell_type": "code",
   "execution_count": 1,
   "metadata": {},
   "outputs": [
    {
     "name": "stderr",
     "output_type": "stream",
     "text": [
      "\u001b[32m\u001b[1m  Activating\u001b[22m\u001b[39m project at `~/Study/algo-trading-notes`\n"
     ]
    }
   ],
   "source": [
    "using Pkg\n",
    "Pkg.activate(\"../\")"
   ]
  },
  {
   "cell_type": "code",
   "execution_count": null,
   "metadata": {},
   "outputs": [],
   "source": [
    "ENV[\"PYTHON\"] = \"/Users/hanyuwu/Library/Caches/pypoetry/virtualenvs/algo-trading-notes-iBqagjyh-py3.11\"\n",
    "Pkg.build(\"PyCall\")\n"
   ]
  },
  {
   "cell_type": "code",
   "execution_count": 19,
   "metadata": {},
   "outputs": [
    {
     "data": {
      "text/plain": [
       "OrderedCollections.OrderedDict{String, Any} with 8 entries:\n",
       "  \"ticker\"    => \"AAPL\"\n",
       "  \"timestamp\" => [DateTime(\"2023-10-30T13:30:00\"), DateTime(\"2023-10-31T13:30:0…\n",
       "  \"open\"      => [168.798, 169.127, 170.775, 175.289, 174.011, 176.148, 178.944…\n",
       "  \"high\"      => [170.945, 170.675, 174.001, 177.546, 176.587, 179.194, 182.2, …\n",
       "  \"low\"       => [168.648, 167.679, 169.896, 175.229, 173.122, 175.978, 178.735…\n",
       "  \"close\"     => [170.29, 170.77, 173.97, 177.57, 176.65, 179.23, 181.82, 182.8…\n",
       "  \"adjclose\"  => [170.066, 170.545, 173.741, 177.336, 176.418, 178.994, 181.581…\n",
       "  \"vol\"       => [5.10637e7, 4.4787e7, 5.686e7, 7.72331e7, 7.96588e7, 6.37573e7…"
      ]
     },
     "metadata": {},
     "output_type": "display_data"
    }
   ],
   "source": [
    "using YFinance\n",
    "using Dates\n",
    "using CSV\n",
    "using RollingFunctions\n",
    "using DataFrames\n",
    "start_date = Date(2020, 1, 1)\n",
    "end_date = Date(2020, 12, 31)\n",
    "\n",
    "data = get_prices(\"AAPL\",range=\"3mo\",interval=\"1d\")"
   ]
  },
  {
   "cell_type": "code",
   "execution_count": 20,
   "metadata": {},
   "outputs": [
    {
     "data": {
      "text/html": [
       "<div><div style = \"float: left;\"><span>62×8 DataFrame</span></div><div style = \"float: right;\"><span style = \"font-style: italic;\">37 rows omitted</span></div><div style = \"clear: both;\"></div></div><div class = \"data-frame\" style = \"overflow-x: scroll;\"><table class = \"data-frame\" style = \"margin-bottom: 6px;\"><thead><tr class = \"header\"><th class = \"rowNumber\" style = \"font-weight: bold; text-align: right;\">Row</th><th style = \"text-align: left;\">ticker</th><th style = \"text-align: left;\">timestamp</th><th style = \"text-align: left;\">open</th><th style = \"text-align: left;\">high</th><th style = \"text-align: left;\">low</th><th style = \"text-align: left;\">close</th><th style = \"text-align: left;\">adjclose</th><th style = \"text-align: left;\">vol</th></tr><tr class = \"subheader headerLastRow\"><th class = \"rowNumber\" style = \"font-weight: bold; text-align: right;\"></th><th title = \"String\" style = \"text-align: left;\">String</th><th title = \"DateTime\" style = \"text-align: left;\">DateTime</th><th title = \"Float64\" style = \"text-align: left;\">Float64</th><th title = \"Float64\" style = \"text-align: left;\">Float64</th><th title = \"Float64\" style = \"text-align: left;\">Float64</th><th title = \"Float64\" style = \"text-align: left;\">Float64</th><th title = \"Float64\" style = \"text-align: left;\">Float64</th><th title = \"Float64\" style = \"text-align: left;\">Float64</th></tr></thead><tbody><tr><td class = \"rowNumber\" style = \"font-weight: bold; text-align: right;\">1</td><td style = \"text-align: left;\">AAPL</td><td style = \"text-align: left;\">2023-10-30T13:30:00</td><td style = \"text-align: right;\">168.798</td><td style = \"text-align: right;\">170.945</td><td style = \"text-align: right;\">168.648</td><td style = \"text-align: right;\">170.29</td><td style = \"text-align: right;\">170.066</td><td style = \"text-align: right;\">5.10637e7</td></tr><tr><td class = \"rowNumber\" style = \"font-weight: bold; text-align: right;\">2</td><td style = \"text-align: left;\">AAPL</td><td style = \"text-align: left;\">2023-10-31T13:30:00</td><td style = \"text-align: right;\">169.127</td><td style = \"text-align: right;\">170.675</td><td style = \"text-align: right;\">167.679</td><td style = \"text-align: right;\">170.77</td><td style = \"text-align: right;\">170.545</td><td style = \"text-align: right;\">4.4787e7</td></tr><tr><td class = \"rowNumber\" style = \"font-weight: bold; text-align: right;\">3</td><td style = \"text-align: left;\">AAPL</td><td style = \"text-align: left;\">2023-11-01T13:30:00</td><td style = \"text-align: right;\">170.775</td><td style = \"text-align: right;\">174.001</td><td style = \"text-align: right;\">169.896</td><td style = \"text-align: right;\">173.97</td><td style = \"text-align: right;\">173.741</td><td style = \"text-align: right;\">5.686e7</td></tr><tr><td class = \"rowNumber\" style = \"font-weight: bold; text-align: right;\">4</td><td style = \"text-align: left;\">AAPL</td><td style = \"text-align: left;\">2023-11-02T13:30:00</td><td style = \"text-align: right;\">175.289</td><td style = \"text-align: right;\">177.546</td><td style = \"text-align: right;\">175.229</td><td style = \"text-align: right;\">177.57</td><td style = \"text-align: right;\">177.336</td><td style = \"text-align: right;\">7.72331e7</td></tr><tr><td class = \"rowNumber\" style = \"font-weight: bold; text-align: right;\">5</td><td style = \"text-align: left;\">AAPL</td><td style = \"text-align: left;\">2023-11-03T13:30:00</td><td style = \"text-align: right;\">174.011</td><td style = \"text-align: right;\">176.587</td><td style = \"text-align: right;\">173.122</td><td style = \"text-align: right;\">176.65</td><td style = \"text-align: right;\">176.418</td><td style = \"text-align: right;\">7.96588e7</td></tr><tr><td class = \"rowNumber\" style = \"font-weight: bold; text-align: right;\">6</td><td style = \"text-align: left;\">AAPL</td><td style = \"text-align: left;\">2023-11-06T14:30:00</td><td style = \"text-align: right;\">176.148</td><td style = \"text-align: right;\">179.194</td><td style = \"text-align: right;\">175.978</td><td style = \"text-align: right;\">179.23</td><td style = \"text-align: right;\">178.994</td><td style = \"text-align: right;\">6.37573e7</td></tr><tr><td class = \"rowNumber\" style = \"font-weight: bold; text-align: right;\">7</td><td style = \"text-align: left;\">AAPL</td><td style = \"text-align: left;\">2023-11-07T14:30:00</td><td style = \"text-align: right;\">178.944</td><td style = \"text-align: right;\">182.2</td><td style = \"text-align: right;\">178.735</td><td style = \"text-align: right;\">181.82</td><td style = \"text-align: right;\">181.581</td><td style = \"text-align: right;\">7.04372e7</td></tr><tr><td class = \"rowNumber\" style = \"font-weight: bold; text-align: right;\">8</td><td style = \"text-align: left;\">AAPL</td><td style = \"text-align: left;\">2023-11-08T14:30:00</td><td style = \"text-align: right;\">182.11</td><td style = \"text-align: right;\">183.209</td><td style = \"text-align: right;\">181.351</td><td style = \"text-align: right;\">182.89</td><td style = \"text-align: right;\">182.649</td><td style = \"text-align: right;\">4.92754e7</td></tr><tr><td class = \"rowNumber\" style = \"font-weight: bold; text-align: right;\">9</td><td style = \"text-align: left;\">AAPL</td><td style = \"text-align: left;\">2023-11-09T14:30:00</td><td style = \"text-align: right;\">182.719</td><td style = \"text-align: right;\">183.878</td><td style = \"text-align: right;\">181.571</td><td style = \"text-align: right;\">182.41</td><td style = \"text-align: right;\">182.17</td><td style = \"text-align: right;\">5.36928e7</td></tr><tr><td class = \"rowNumber\" style = \"font-weight: bold; text-align: right;\">10</td><td style = \"text-align: left;\">AAPL</td><td style = \"text-align: left;\">2023-11-10T14:30:00</td><td style = \"text-align: right;\">183.97</td><td style = \"text-align: right;\">186.57</td><td style = \"text-align: right;\">183.53</td><td style = \"text-align: right;\">186.4</td><td style = \"text-align: right;\">186.4</td><td style = \"text-align: right;\">6.61334e7</td></tr><tr><td class = \"rowNumber\" style = \"font-weight: bold; text-align: right;\">11</td><td style = \"text-align: left;\">AAPL</td><td style = \"text-align: left;\">2023-11-13T14:30:00</td><td style = \"text-align: right;\">185.82</td><td style = \"text-align: right;\">186.03</td><td style = \"text-align: right;\">184.21</td><td style = \"text-align: right;\">184.8</td><td style = \"text-align: right;\">184.8</td><td style = \"text-align: right;\">4.36275e7</td></tr><tr><td class = \"rowNumber\" style = \"font-weight: bold; text-align: right;\">12</td><td style = \"text-align: left;\">AAPL</td><td style = \"text-align: left;\">2023-11-14T14:30:00</td><td style = \"text-align: right;\">187.7</td><td style = \"text-align: right;\">188.11</td><td style = \"text-align: right;\">186.3</td><td style = \"text-align: right;\">187.44</td><td style = \"text-align: right;\">187.44</td><td style = \"text-align: right;\">6.01084e7</td></tr><tr><td class = \"rowNumber\" style = \"font-weight: bold; text-align: right;\">13</td><td style = \"text-align: left;\">AAPL</td><td style = \"text-align: left;\">2023-11-15T14:30:00</td><td style = \"text-align: right;\">187.85</td><td style = \"text-align: right;\">189.5</td><td style = \"text-align: right;\">187.78</td><td style = \"text-align: right;\">188.01</td><td style = \"text-align: right;\">188.01</td><td style = \"text-align: right;\">5.37905e7</td></tr><tr><td style = \"text-align: right;\">&vellip;</td><td style = \"text-align: right;\">&vellip;</td><td style = \"text-align: right;\">&vellip;</td><td style = \"text-align: right;\">&vellip;</td><td style = \"text-align: right;\">&vellip;</td><td style = \"text-align: right;\">&vellip;</td><td style = \"text-align: right;\">&vellip;</td><td style = \"text-align: right;\">&vellip;</td><td style = \"text-align: right;\">&vellip;</td></tr><tr><td class = \"rowNumber\" style = \"font-weight: bold; text-align: right;\">51</td><td style = \"text-align: left;\">AAPL</td><td style = \"text-align: left;\">2024-01-11T14:30:00</td><td style = \"text-align: right;\">186.54</td><td style = \"text-align: right;\">187.05</td><td style = \"text-align: right;\">183.62</td><td style = \"text-align: right;\">185.59</td><td style = \"text-align: right;\">185.59</td><td style = \"text-align: right;\">4.91284e7</td></tr><tr><td class = \"rowNumber\" style = \"font-weight: bold; text-align: right;\">52</td><td style = \"text-align: left;\">AAPL</td><td style = \"text-align: left;\">2024-01-12T14:30:00</td><td style = \"text-align: right;\">186.06</td><td style = \"text-align: right;\">186.74</td><td style = \"text-align: right;\">185.19</td><td style = \"text-align: right;\">185.92</td><td style = \"text-align: right;\">185.92</td><td style = \"text-align: right;\">4.04447e7</td></tr><tr><td class = \"rowNumber\" style = \"font-weight: bold; text-align: right;\">53</td><td style = \"text-align: left;\">AAPL</td><td style = \"text-align: left;\">2024-01-16T14:30:00</td><td style = \"text-align: right;\">182.16</td><td style = \"text-align: right;\">184.26</td><td style = \"text-align: right;\">180.93</td><td style = \"text-align: right;\">183.63</td><td style = \"text-align: right;\">183.63</td><td style = \"text-align: right;\">6.5603e7</td></tr><tr><td class = \"rowNumber\" style = \"font-weight: bold; text-align: right;\">54</td><td style = \"text-align: left;\">AAPL</td><td style = \"text-align: left;\">2024-01-17T14:30:00</td><td style = \"text-align: right;\">181.27</td><td style = \"text-align: right;\">182.93</td><td style = \"text-align: right;\">180.3</td><td style = \"text-align: right;\">182.68</td><td style = \"text-align: right;\">182.68</td><td style = \"text-align: right;\">4.73174e7</td></tr><tr><td class = \"rowNumber\" style = \"font-weight: bold; text-align: right;\">55</td><td style = \"text-align: left;\">AAPL</td><td style = \"text-align: left;\">2024-01-18T14:30:00</td><td style = \"text-align: right;\">186.09</td><td style = \"text-align: right;\">189.14</td><td style = \"text-align: right;\">185.83</td><td style = \"text-align: right;\">188.63</td><td style = \"text-align: right;\">188.63</td><td style = \"text-align: right;\">7.80058e7</td></tr><tr><td class = \"rowNumber\" style = \"font-weight: bold; text-align: right;\">56</td><td style = \"text-align: left;\">AAPL</td><td style = \"text-align: left;\">2024-01-19T14:30:00</td><td style = \"text-align: right;\">189.33</td><td style = \"text-align: right;\">191.95</td><td style = \"text-align: right;\">188.82</td><td style = \"text-align: right;\">191.56</td><td style = \"text-align: right;\">191.56</td><td style = \"text-align: right;\">6.8741e7</td></tr><tr><td class = \"rowNumber\" style = \"font-weight: bold; text-align: right;\">57</td><td style = \"text-align: left;\">AAPL</td><td style = \"text-align: left;\">2024-01-22T14:30:00</td><td style = \"text-align: right;\">192.3</td><td style = \"text-align: right;\">195.33</td><td style = \"text-align: right;\">192.26</td><td style = \"text-align: right;\">193.89</td><td style = \"text-align: right;\">193.89</td><td style = \"text-align: right;\">6.01339e7</td></tr><tr><td class = \"rowNumber\" style = \"font-weight: bold; text-align: right;\">58</td><td style = \"text-align: left;\">AAPL</td><td style = \"text-align: left;\">2024-01-23T14:30:00</td><td style = \"text-align: right;\">195.02</td><td style = \"text-align: right;\">195.75</td><td style = \"text-align: right;\">193.83</td><td style = \"text-align: right;\">195.18</td><td style = \"text-align: right;\">195.18</td><td style = \"text-align: right;\">4.23556e7</td></tr><tr><td class = \"rowNumber\" style = \"font-weight: bold; text-align: right;\">59</td><td style = \"text-align: left;\">AAPL</td><td style = \"text-align: left;\">2024-01-24T14:30:00</td><td style = \"text-align: right;\">195.42</td><td style = \"text-align: right;\">196.38</td><td style = \"text-align: right;\">194.34</td><td style = \"text-align: right;\">194.5</td><td style = \"text-align: right;\">194.5</td><td style = \"text-align: right;\">5.36313e7</td></tr><tr><td class = \"rowNumber\" style = \"font-weight: bold; text-align: right;\">60</td><td style = \"text-align: left;\">AAPL</td><td style = \"text-align: left;\">2024-01-25T14:30:00</td><td style = \"text-align: right;\">195.22</td><td style = \"text-align: right;\">196.27</td><td style = \"text-align: right;\">193.11</td><td style = \"text-align: right;\">194.17</td><td style = \"text-align: right;\">194.17</td><td style = \"text-align: right;\">5.48221e7</td></tr><tr><td class = \"rowNumber\" style = \"font-weight: bold; text-align: right;\">61</td><td style = \"text-align: left;\">AAPL</td><td style = \"text-align: left;\">2024-01-26T14:30:00</td><td style = \"text-align: right;\">194.27</td><td style = \"text-align: right;\">194.76</td><td style = \"text-align: right;\">191.94</td><td style = \"text-align: right;\">192.42</td><td style = \"text-align: right;\">192.42</td><td style = \"text-align: right;\">4.45534e7</td></tr><tr><td class = \"rowNumber\" style = \"font-weight: bold; text-align: right;\">62</td><td style = \"text-align: left;\">AAPL</td><td style = \"text-align: left;\">2024-01-29T14:30:00</td><td style = \"text-align: right;\">192.01</td><td style = \"text-align: right;\">192.2</td><td style = \"text-align: right;\">189.58</td><td style = \"text-align: right;\">191.73</td><td style = \"text-align: right;\">191.73</td><td style = \"text-align: right;\">4.70425e7</td></tr></tbody></table></div>"
      ],
      "text/latex": [
       "\\begin{tabular}{r|cccccccc}\n",
       "\t& ticker & timestamp & open & high & low & close & adjclose & vol\\\\\n",
       "\t\\hline\n",
       "\t& String & DateTime & Float64 & Float64 & Float64 & Float64 & Float64 & Float64\\\\\n",
       "\t\\hline\n",
       "\t1 & AAPL & 2023-10-30T13:30:00 & 168.798 & 170.945 & 168.648 & 170.29 & 170.066 & 5.10637e7 \\\\\n",
       "\t2 & AAPL & 2023-10-31T13:30:00 & 169.127 & 170.675 & 167.679 & 170.77 & 170.545 & 4.4787e7 \\\\\n",
       "\t3 & AAPL & 2023-11-01T13:30:00 & 170.775 & 174.001 & 169.896 & 173.97 & 173.741 & 5.686e7 \\\\\n",
       "\t4 & AAPL & 2023-11-02T13:30:00 & 175.289 & 177.546 & 175.229 & 177.57 & 177.336 & 7.72331e7 \\\\\n",
       "\t5 & AAPL & 2023-11-03T13:30:00 & 174.011 & 176.587 & 173.122 & 176.65 & 176.418 & 7.96588e7 \\\\\n",
       "\t6 & AAPL & 2023-11-06T14:30:00 & 176.148 & 179.194 & 175.978 & 179.23 & 178.994 & 6.37573e7 \\\\\n",
       "\t7 & AAPL & 2023-11-07T14:30:00 & 178.944 & 182.2 & 178.735 & 181.82 & 181.581 & 7.04372e7 \\\\\n",
       "\t8 & AAPL & 2023-11-08T14:30:00 & 182.11 & 183.209 & 181.351 & 182.89 & 182.649 & 4.92754e7 \\\\\n",
       "\t9 & AAPL & 2023-11-09T14:30:00 & 182.719 & 183.878 & 181.571 & 182.41 & 182.17 & 5.36928e7 \\\\\n",
       "\t10 & AAPL & 2023-11-10T14:30:00 & 183.97 & 186.57 & 183.53 & 186.4 & 186.4 & 6.61334e7 \\\\\n",
       "\t11 & AAPL & 2023-11-13T14:30:00 & 185.82 & 186.03 & 184.21 & 184.8 & 184.8 & 4.36275e7 \\\\\n",
       "\t12 & AAPL & 2023-11-14T14:30:00 & 187.7 & 188.11 & 186.3 & 187.44 & 187.44 & 6.01084e7 \\\\\n",
       "\t13 & AAPL & 2023-11-15T14:30:00 & 187.85 & 189.5 & 187.78 & 188.01 & 188.01 & 5.37905e7 \\\\\n",
       "\t14 & AAPL & 2023-11-16T14:30:00 & 189.57 & 190.96 & 188.65 & 189.71 & 189.71 & 5.44129e7 \\\\\n",
       "\t15 & AAPL & 2023-11-17T14:30:00 & 190.25 & 190.38 & 188.57 & 189.69 & 189.69 & 5.09227e7 \\\\\n",
       "\t16 & AAPL & 2023-11-20T14:30:00 & 189.89 & 191.91 & 189.88 & 191.45 & 191.45 & 4.65051e7 \\\\\n",
       "\t17 & AAPL & 2023-11-21T14:30:00 & 191.41 & 191.52 & 189.74 & 190.64 & 190.64 & 3.81345e7 \\\\\n",
       "\t18 & AAPL & 2023-11-22T14:30:00 & 191.49 & 192.93 & 190.83 & 191.31 & 191.31 & 3.96177e7 \\\\\n",
       "\t19 & AAPL & 2023-11-24T14:30:00 & 190.87 & 190.9 & 189.25 & 189.97 & 189.97 & 2.40483e7 \\\\\n",
       "\t20 & AAPL & 2023-11-27T14:30:00 & 189.92 & 190.67 & 188.9 & 189.79 & 189.79 & 4.05526e7 \\\\\n",
       "\t21 & AAPL & 2023-11-28T14:30:00 & 189.78 & 191.08 & 189.4 & 190.4 & 190.4 & 3.84154e7 \\\\\n",
       "\t22 & AAPL & 2023-11-29T14:30:00 & 190.9 & 192.09 & 188.97 & 189.37 & 189.37 & 4.30142e7 \\\\\n",
       "\t23 & AAPL & 2023-11-30T14:30:00 & 189.84 & 190.32 & 188.19 & 189.95 & 189.95 & 4.87944e7 \\\\\n",
       "\t24 & AAPL & 2023-12-01T14:30:00 & 190.33 & 191.56 & 189.23 & 191.24 & 191.24 & 4.56793e7 \\\\\n",
       "\t$\\dots$ & $\\dots$ & $\\dots$ & $\\dots$ & $\\dots$ & $\\dots$ & $\\dots$ & $\\dots$ & $\\dots$ \\\\\n",
       "\\end{tabular}\n"
      ],
      "text/plain": [
       "\u001b[1m62×8 DataFrame\u001b[0m\n",
       "\u001b[1m Row \u001b[0m│\u001b[1m ticker \u001b[0m\u001b[1m timestamp           \u001b[0m\u001b[1m open    \u001b[0m\u001b[1m high    \u001b[0m\u001b[1m low     \u001b[0m\u001b[1m close   \u001b[0m\u001b[1m adjclo\u001b[0m ⋯\n",
       "     │\u001b[90m String \u001b[0m\u001b[90m DateTime            \u001b[0m\u001b[90m Float64 \u001b[0m\u001b[90m Float64 \u001b[0m\u001b[90m Float64 \u001b[0m\u001b[90m Float64 \u001b[0m\u001b[90m Float6\u001b[0m ⋯\n",
       "─────┼──────────────────────────────────────────────────────────────────────────\n",
       "   1 │ AAPL    2023-10-30T13:30:00  168.798  170.945  168.648   170.29   170.0 ⋯\n",
       "   2 │ AAPL    2023-10-31T13:30:00  169.127  170.675  167.679   170.77   170.5\n",
       "   3 │ AAPL    2023-11-01T13:30:00  170.775  174.001  169.896   173.97   173.7\n",
       "   4 │ AAPL    2023-11-02T13:30:00  175.289  177.546  175.229   177.57   177.3\n",
       "   5 │ AAPL    2023-11-03T13:30:00  174.011  176.587  173.122   176.65   176.4 ⋯\n",
       "   6 │ AAPL    2023-11-06T14:30:00  176.148  179.194  175.978   179.23   178.9\n",
       "   7 │ AAPL    2023-11-07T14:30:00  178.944  182.2    178.735   181.82   181.5\n",
       "   8 │ AAPL    2023-11-08T14:30:00  182.11   183.209  181.351   182.89   182.6\n",
       "  ⋮  │   ⋮              ⋮              ⋮        ⋮        ⋮        ⋮        ⋮   ⋱\n",
       "  56 │ AAPL    2024-01-19T14:30:00  189.33   191.95   188.82    191.56   191.5 ⋯\n",
       "  57 │ AAPL    2024-01-22T14:30:00  192.3    195.33   192.26    193.89   193.8\n",
       "  58 │ AAPL    2024-01-23T14:30:00  195.02   195.75   193.83    195.18   195.1\n",
       "  59 │ AAPL    2024-01-24T14:30:00  195.42   196.38   194.34    194.5    194.5\n",
       "  60 │ AAPL    2024-01-25T14:30:00  195.22   196.27   193.11    194.17   194.1 ⋯\n",
       "  61 │ AAPL    2024-01-26T14:30:00  194.27   194.76   191.94    192.42   192.4\n",
       "  62 │ AAPL    2024-01-29T14:30:00  192.01   192.2    189.58    191.73   191.7\n",
       "\u001b[36m                                                   2 columns and 47 rows omitted\u001b[0m"
      ]
     },
     "metadata": {},
     "output_type": "display_data"
    }
   ],
   "source": [
    "df = DataFrame(data)"
   ]
  },
  {
   "cell_type": "code",
   "execution_count": 18,
   "metadata": {},
   "outputs": [
    {
     "data": {
      "text/html": [
       "<div><div style = \"float: left;\"><span>1×8 DataFrame</span></div><div style = \"clear: both;\"></div></div><div class = \"data-frame\" style = \"overflow-x: scroll;\"><table class = \"data-frame\" style = \"margin-bottom: 6px;\"><thead><tr class = \"header\"><th class = \"rowNumber\" style = \"font-weight: bold; text-align: right;\">Row</th><th style = \"text-align: left;\">ticker</th><th style = \"text-align: left;\">timestamp</th><th style = \"text-align: left;\">open</th><th style = \"text-align: left;\">high</th><th style = \"text-align: left;\">low</th><th style = \"text-align: left;\">close</th><th style = \"text-align: left;\">adjclose</th><th style = \"text-align: left;\">vol</th></tr><tr class = \"subheader headerLastRow\"><th class = \"rowNumber\" style = \"font-weight: bold; text-align: right;\"></th><th title = \"String\" style = \"text-align: left;\">String</th><th title = \"DateTime\" style = \"text-align: left;\">DateTime</th><th title = \"Float64\" style = \"text-align: left;\">Float64</th><th title = \"Float64\" style = \"text-align: left;\">Float64</th><th title = \"Float64\" style = \"text-align: left;\">Float64</th><th title = \"Float64\" style = \"text-align: left;\">Float64</th><th title = \"Float64\" style = \"text-align: left;\">Float64</th><th title = \"Float64\" style = \"text-align: left;\">Float64</th></tr></thead><tbody><tr><td class = \"rowNumber\" style = \"font-weight: bold; text-align: right;\">1</td><td style = \"text-align: left;\">AAPL</td><td style = \"text-align: left;\">2024-01-29T21:00:01</td><td style = \"text-align: right;\">192.01</td><td style = \"text-align: right;\">192.2</td><td style = \"text-align: right;\">189.58</td><td style = \"text-align: right;\">191.73</td><td style = \"text-align: right;\">191.73</td><td style = \"text-align: right;\">4.6748e7</td></tr></tbody></table></div>"
      ],
      "text/latex": [
       "\\begin{tabular}{r|cccccccc}\n",
       "\t& ticker & timestamp & open & high & low & close & adjclose & vol\\\\\n",
       "\t\\hline\n",
       "\t& String & DateTime & Float64 & Float64 & Float64 & Float64 & Float64 & Float64\\\\\n",
       "\t\\hline\n",
       "\t1 & AAPL & 2024-01-29T21:00:01 & 192.01 & 192.2 & 189.58 & 191.73 & 191.73 & 4.6748e7 \\\\\n",
       "\\end{tabular}\n"
      ],
      "text/plain": [
       "\u001b[1m1×8 DataFrame\u001b[0m\n",
       "\u001b[1m Row \u001b[0m│\u001b[1m ticker \u001b[0m\u001b[1m timestamp           \u001b[0m\u001b[1m open    \u001b[0m\u001b[1m high    \u001b[0m\u001b[1m low     \u001b[0m\u001b[1m close   \u001b[0m\u001b[1m adjclo\u001b[0m ⋯\n",
       "     │\u001b[90m String \u001b[0m\u001b[90m DateTime            \u001b[0m\u001b[90m Float64 \u001b[0m\u001b[90m Float64 \u001b[0m\u001b[90m Float64 \u001b[0m\u001b[90m Float64 \u001b[0m\u001b[90m Float6\u001b[0m ⋯\n",
       "─────┼──────────────────────────────────────────────────────────────────────────\n",
       "   1 │ AAPL    2024-01-29T21:00:01   192.01    192.2   189.58   191.73    191. ⋯\n",
       "\u001b[36m                                                               2 columns omitted\u001b[0m"
      ]
     },
     "metadata": {},
     "output_type": "display_data"
    }
   ],
   "source": [
    "df"
   ]
  },
  {
   "cell_type": "code",
   "execution_count": null,
   "metadata": {},
   "outputs": [],
   "source": [
    "function get_stock_prices(ticker::String, range::String, interval::String)\n",
    "    data = get_prices(ticker, range=range, interval=interval)\n",
    "    df = DataFrame(data)\n",
    "    return data\n",
    "end"
   ]
  }
 ],
 "metadata": {
  "kernelspec": {
   "display_name": "Julia 1.9.2",
   "language": "julia",
   "name": "julia-1.9"
  },
  "language_info": {
   "file_extension": ".jl",
   "mimetype": "application/julia",
   "name": "julia",
   "version": "1.9.2"
  }
 },
 "nbformat": 4,
 "nbformat_minor": 2
}
