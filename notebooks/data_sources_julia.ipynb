{
 "cells": [
  {
   "cell_type": "code",
   "execution_count": 1,
   "metadata": {},
   "outputs": [
    {
     "name": "stderr",
     "output_type": "stream",
     "text": [
      "\u001b[32m\u001b[1m  Activating\u001b[22m\u001b[39m project at `~/Study/algo-trading-notes`\n"
     ]
    }
   ],
   "source": [
    "using Pkg\n",
    "Pkg.activate(\"../\")"
   ]
  },
  {
   "cell_type": "code",
   "execution_count": null,
   "metadata": {},
   "outputs": [],
   "source": [
    "ENV[\"PYTHON\"] = \"/Users/hanyuwu/Library/Caches/pypoetry/virtualenvs/algo-trading-notes-iBqagjyh-py3.11\"\n",
    "Pkg.build(\"PyCall\")\n"
   ]
  },
  {
   "cell_type": "code",
   "execution_count": 15,
   "metadata": {},
   "outputs": [
    {
     "data": {
      "text/plain": [
       "OrderedCollections.OrderedDict{String, Any} with 8 entries:\n",
       "  \"ticker\"    => \"AAPL\"\n",
       "  \"timestamp\" => [DateTime(\"2024-01-29T21:00:01\")]\n",
       "  \"open\"      => [192.01]\n",
       "  \"high\"      => [192.2]\n",
       "  \"low\"       => [189.58]\n",
       "  \"close\"     => [191.73]\n",
       "  \"adjclose\"  => [191.73]\n",
       "  \"vol\"       => [4.6748e7]"
      ]
     },
     "metadata": {},
     "output_type": "display_data"
    }
   ],
   "source": [
    "using YFinance\n",
    "using Dates\n",
    "using CSV\n",
    "using RollingFunctions\n",
    "using DataFrames\n",
    "start_date = Date(2020, 1, 1)\n",
    "end_date = Date(2020, 12, 31)\n",
    "\n",
    "data = get_prices(\"AAPL\",range=\"1d\",interval=\"3mo\")"
   ]
  },
  {
   "cell_type": "code",
   "execution_count": 16,
   "metadata": {},
   "outputs": [],
   "source": [
    "df = DataFrame(data);"
   ]
  },
  {
   "cell_type": "code",
   "execution_count": 18,
   "metadata": {},
   "outputs": [
    {
     "data": {
      "text/html": [
       "<div><div style = \"float: left;\"><span>1×8 DataFrame</span></div><div style = \"clear: both;\"></div></div><div class = \"data-frame\" style = \"overflow-x: scroll;\"><table class = \"data-frame\" style = \"margin-bottom: 6px;\"><thead><tr class = \"header\"><th class = \"rowNumber\" style = \"font-weight: bold; text-align: right;\">Row</th><th style = \"text-align: left;\">ticker</th><th style = \"text-align: left;\">timestamp</th><th style = \"text-align: left;\">open</th><th style = \"text-align: left;\">high</th><th style = \"text-align: left;\">low</th><th style = \"text-align: left;\">close</th><th style = \"text-align: left;\">adjclose</th><th style = \"text-align: left;\">vol</th></tr><tr class = \"subheader headerLastRow\"><th class = \"rowNumber\" style = \"font-weight: bold; text-align: right;\"></th><th title = \"String\" style = \"text-align: left;\">String</th><th title = \"DateTime\" style = \"text-align: left;\">DateTime</th><th title = \"Float64\" style = \"text-align: left;\">Float64</th><th title = \"Float64\" style = \"text-align: left;\">Float64</th><th title = \"Float64\" style = \"text-align: left;\">Float64</th><th title = \"Float64\" style = \"text-align: left;\">Float64</th><th title = \"Float64\" style = \"text-align: left;\">Float64</th><th title = \"Float64\" style = \"text-align: left;\">Float64</th></tr></thead><tbody><tr><td class = \"rowNumber\" style = \"font-weight: bold; text-align: right;\">1</td><td style = \"text-align: left;\">AAPL</td><td style = \"text-align: left;\">2024-01-29T21:00:01</td><td style = \"text-align: right;\">192.01</td><td style = \"text-align: right;\">192.2</td><td style = \"text-align: right;\">189.58</td><td style = \"text-align: right;\">191.73</td><td style = \"text-align: right;\">191.73</td><td style = \"text-align: right;\">4.6748e7</td></tr></tbody></table></div>"
      ],
      "text/latex": [
       "\\begin{tabular}{r|cccccccc}\n",
       "\t& ticker & timestamp & open & high & low & close & adjclose & vol\\\\\n",
       "\t\\hline\n",
       "\t& String & DateTime & Float64 & Float64 & Float64 & Float64 & Float64 & Float64\\\\\n",
       "\t\\hline\n",
       "\t1 & AAPL & 2024-01-29T21:00:01 & 192.01 & 192.2 & 189.58 & 191.73 & 191.73 & 4.6748e7 \\\\\n",
       "\\end{tabular}\n"
      ],
      "text/plain": [
       "\u001b[1m1×8 DataFrame\u001b[0m\n",
       "\u001b[1m Row \u001b[0m│\u001b[1m ticker \u001b[0m\u001b[1m timestamp           \u001b[0m\u001b[1m open    \u001b[0m\u001b[1m high    \u001b[0m\u001b[1m low     \u001b[0m\u001b[1m close   \u001b[0m\u001b[1m adjclo\u001b[0m ⋯\n",
       "     │\u001b[90m String \u001b[0m\u001b[90m DateTime            \u001b[0m\u001b[90m Float64 \u001b[0m\u001b[90m Float64 \u001b[0m\u001b[90m Float64 \u001b[0m\u001b[90m Float64 \u001b[0m\u001b[90m Float6\u001b[0m ⋯\n",
       "─────┼──────────────────────────────────────────────────────────────────────────\n",
       "   1 │ AAPL    2024-01-29T21:00:01   192.01    192.2   189.58   191.73    191. ⋯\n",
       "\u001b[36m                                                               2 columns omitted\u001b[0m"
      ]
     },
     "metadata": {},
     "output_type": "display_data"
    }
   ],
   "source": [
    "df"
   ]
  },
  {
   "cell_type": "code",
   "execution_count": 17,
   "metadata": {},
   "outputs": [
    {
     "ename": "ErrorException",
     "evalue": "\n\tBad window span (10) for length 1.\n",
     "output_type": "error",
     "traceback": [
      "\n",
      "\tBad window span (10) for length 1.\n",
      "\n",
      "\n",
      "Stacktrace:\n",
      " [1] nrolled\n",
      "   @ ~/.julia/packages/RollingFunctions/fR9uW/src/support/utils.jl:141 [inlined]\n",
      " [2] basic_rolling(window_fn::typeof(Statistics.mean), data1::Vector{Float64}, window_span::Int64)\n",
      "   @ RollingFunctions ~/.julia/packages/RollingFunctions/fR9uW/src/roll/rollvectors.jl:15\n",
      " [3] #rolling#7\n",
      "   @ ~/.julia/packages/RollingFunctions/fR9uW/src/roll/roll.jl:4 [inlined]\n",
      " [4] rolling\n",
      "   @ ~/.julia/packages/RollingFunctions/fR9uW/src/roll/roll.jl:1 [inlined]\n",
      " [5] rollmean(data::Vector{Float64}, windowspan::Int64)\n",
      "   @ RollingFunctions ~/.julia/packages/RollingFunctions/fR9uW/src/roll/rollstats.jl:14\n",
      " [6] top-level scope\n",
      "   @ ~/Study/algo-trading-notes/notebooks/data_sources_julia.ipynb:1"
     ]
    }
   ],
   "source": [
    "rollmean(df.close, 10)"
   ]
  },
  {
   "cell_type": "code",
   "execution_count": null,
   "metadata": {},
   "outputs": [],
   "source": [
    "function get_stock_prices(ticker::String, range::String, interval::String)\n",
    "    data = get_prices(ticker, range=range, interval=interval)\n",
    "    df = DataFrame(data)\n",
    "    return data\n",
    "end"
   ]
  }
 ],
 "metadata": {
  "kernelspec": {
   "display_name": "Julia 1.9.2",
   "language": "julia",
   "name": "julia-1.9"
  },
  "language_info": {
   "file_extension": ".jl",
   "mimetype": "application/julia",
   "name": "julia",
   "version": "1.9.2"
  }
 },
 "nbformat": 4,
 "nbformat_minor": 2
}
