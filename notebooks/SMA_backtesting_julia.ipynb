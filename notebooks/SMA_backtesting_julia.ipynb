{
 "cells": [
  {
   "cell_type": "code",
   "execution_count": 1,
   "metadata": {},
   "outputs": [
    {
     "name": "stderr",
     "output_type": "stream",
     "text": [
      "\u001b[32m\u001b[1m  Activating\u001b[22m\u001b[39m project at `~/Study/algo-trading-notes`\n"
     ]
    }
   ],
   "source": [
    "using Pkg\n",
    "Pkg.activate(\"../\")"
   ]
  },
  {
   "cell_type": "code",
   "execution_count": 2,
   "metadata": {},
   "outputs": [],
   "source": [
    "using YFinance\n",
    "using Dates\n",
    "using CSV\n",
    "using RollingFunctions\n",
    "using DataFrames\n",
    "using StatsBase"
   ]
  },
  {
   "cell_type": "code",
   "execution_count": 3,
   "metadata": {},
   "outputs": [
    {
     "data": {
      "text/plain": [
       "get_stock_prices (generic function with 1 method)"
      ]
     },
     "metadata": {},
     "output_type": "display_data"
    }
   ],
   "source": [
    "function get_stock_prices(ticker::String, startdt::String, enddt::String, interval::String)\n",
    "    data_ordered_dict = get_prices(ticker, startdt=startdt, enddt=enddt, interval=interval)\n",
    "    df = DataFrame(data_ordered_dict)\n",
    "    df[!, :SMA1] = vcat(fill(NaN, 41), rollmean(df[!, :close], 42))\n",
    "    df[!, :SMA2] = vcat(fill(NaN, 251), rollmean(df[!, :close], 252))\n",
    "    df[!, :return] = vcat(fill(NaN, 1), diff(df[!, :close]) ./ df[!, :close][1:end-1])\n",
    "    return df\n",
    "end"
   ]
  },
  {
   "cell_type": "code",
   "execution_count": 4,
   "metadata": {},
   "outputs": [
    {
     "data": {
      "text/html": [
       "<div><div style = \"float: left;\"><span>10×11 DataFrame</span></div><div style = \"clear: both;\"></div></div><div class = \"data-frame\" style = \"overflow-x: scroll;\"><table class = \"data-frame\" style = \"margin-bottom: 6px;\"><thead><tr class = \"header\"><th class = \"rowNumber\" style = \"font-weight: bold; text-align: right;\">Row</th><th style = \"text-align: left;\">ticker</th><th style = \"text-align: left;\">timestamp</th><th style = \"text-align: left;\">open</th><th style = \"text-align: left;\">high</th><th style = \"text-align: left;\">low</th><th style = \"text-align: left;\">close</th><th style = \"text-align: left;\">adjclose</th><th style = \"text-align: left;\">vol</th><th style = \"text-align: left;\">SMA1</th><th style = \"text-align: left;\">SMA2</th><th style = \"text-align: left;\">return</th></tr><tr class = \"subheader headerLastRow\"><th class = \"rowNumber\" style = \"font-weight: bold; text-align: right;\"></th><th title = \"String\" style = \"text-align: left;\">String</th><th title = \"DateTime\" style = \"text-align: left;\">DateTime</th><th title = \"Float64\" style = \"text-align: left;\">Float64</th><th title = \"Float64\" style = \"text-align: left;\">Float64</th><th title = \"Float64\" style = \"text-align: left;\">Float64</th><th title = \"Float64\" style = \"text-align: left;\">Float64</th><th title = \"Float64\" style = \"text-align: left;\">Float64</th><th title = \"Float64\" style = \"text-align: left;\">Float64</th><th title = \"Float64\" style = \"text-align: left;\">Float64</th><th title = \"Float64\" style = \"text-align: left;\">Float64</th><th title = \"Float64\" style = \"text-align: left;\">Float64</th></tr></thead><tbody><tr><td class = \"rowNumber\" style = \"font-weight: bold; text-align: right;\">1</td><td style = \"text-align: left;\">AAPL</td><td style = \"text-align: left;\">2023-12-15T14:30:00</td><td style = \"text-align: right;\">197.53</td><td style = \"text-align: right;\">198.4</td><td style = \"text-align: right;\">197.0</td><td style = \"text-align: right;\">197.57</td><td style = \"text-align: right;\">197.57</td><td style = \"text-align: right;\">1.28257e8</td><td style = \"text-align: right;\">184.745</td><td style = \"text-align: right;\">169.999</td><td style = \"text-align: right;\">-0.00272572</td></tr><tr><td class = \"rowNumber\" style = \"font-weight: bold; text-align: right;\">2</td><td style = \"text-align: left;\">AAPL</td><td style = \"text-align: left;\">2023-12-18T14:30:00</td><td style = \"text-align: right;\">196.09</td><td style = \"text-align: right;\">196.63</td><td style = \"text-align: right;\">194.39</td><td style = \"text-align: right;\">195.89</td><td style = \"text-align: right;\">195.89</td><td style = \"text-align: right;\">5.57519e7</td><td style = \"text-align: right;\">185.222</td><td style = \"text-align: right;\">170.235</td><td style = \"text-align: right;\">-0.00850336</td></tr><tr><td class = \"rowNumber\" style = \"font-weight: bold; text-align: right;\">3</td><td style = \"text-align: left;\">AAPL</td><td style = \"text-align: left;\">2023-12-19T14:30:00</td><td style = \"text-align: right;\">196.16</td><td style = \"text-align: right;\">196.95</td><td style = \"text-align: right;\">195.89</td><td style = \"text-align: right;\">196.94</td><td style = \"text-align: right;\">196.94</td><td style = \"text-align: right;\">4.07141e7</td><td style = \"text-align: right;\">185.734</td><td style = \"text-align: right;\">170.483</td><td style = \"text-align: right;\">0.00536017</td></tr><tr><td class = \"rowNumber\" style = \"font-weight: bold; text-align: right;\">4</td><td style = \"text-align: left;\">AAPL</td><td style = \"text-align: left;\">2023-12-20T14:30:00</td><td style = \"text-align: right;\">196.9</td><td style = \"text-align: right;\">197.68</td><td style = \"text-align: right;\">194.83</td><td style = \"text-align: right;\">194.83</td><td style = \"text-align: right;\">194.83</td><td style = \"text-align: right;\">5.22428e7</td><td style = \"text-align: right;\">186.256</td><td style = \"text-align: right;\">170.731</td><td style = \"text-align: right;\">-0.0107139</td></tr><tr><td class = \"rowNumber\" style = \"font-weight: bold; text-align: right;\">5</td><td style = \"text-align: left;\">AAPL</td><td style = \"text-align: left;\">2023-12-21T14:30:00</td><td style = \"text-align: right;\">196.1</td><td style = \"text-align: right;\">197.08</td><td style = \"text-align: right;\">193.5</td><td style = \"text-align: right;\">194.68</td><td style = \"text-align: right;\">194.68</td><td style = \"text-align: right;\">4.64825e7</td><td style = \"text-align: right;\">186.772</td><td style = \"text-align: right;\">170.978</td><td style = \"text-align: right;\">-0.000769949</td></tr><tr><td class = \"rowNumber\" style = \"font-weight: bold; text-align: right;\">6</td><td style = \"text-align: left;\">AAPL</td><td style = \"text-align: left;\">2023-12-22T14:30:00</td><td style = \"text-align: right;\">195.18</td><td style = \"text-align: right;\">195.41</td><td style = \"text-align: right;\">192.97</td><td style = \"text-align: right;\">193.6</td><td style = \"text-align: right;\">193.6</td><td style = \"text-align: right;\">3.71228e7</td><td style = \"text-align: right;\">187.252</td><td style = \"text-align: right;\">171.209</td><td style = \"text-align: right;\">-0.0055475</td></tr><tr><td class = \"rowNumber\" style = \"font-weight: bold; text-align: right;\">7</td><td style = \"text-align: left;\">AAPL</td><td style = \"text-align: left;\">2023-12-26T14:30:00</td><td style = \"text-align: right;\">193.61</td><td style = \"text-align: right;\">193.89</td><td style = \"text-align: right;\">192.83</td><td style = \"text-align: right;\">193.05</td><td style = \"text-align: right;\">193.05</td><td style = \"text-align: right;\">2.89193e7</td><td style = \"text-align: right;\">187.775</td><td style = \"text-align: right;\">171.45</td><td style = \"text-align: right;\">-0.00284092</td></tr><tr><td class = \"rowNumber\" style = \"font-weight: bold; text-align: right;\">8</td><td style = \"text-align: left;\">AAPL</td><td style = \"text-align: left;\">2023-12-27T14:30:00</td><td style = \"text-align: right;\">192.49</td><td style = \"text-align: right;\">193.5</td><td style = \"text-align: right;\">191.09</td><td style = \"text-align: right;\">193.15</td><td style = \"text-align: right;\">193.15</td><td style = \"text-align: right;\">4.80877e7</td><td style = \"text-align: right;\">188.4</td><td style = \"text-align: right;\">171.693</td><td style = \"text-align: right;\">0.000517953</td></tr><tr><td class = \"rowNumber\" style = \"font-weight: bold; text-align: right;\">9</td><td style = \"text-align: left;\">AAPL</td><td style = \"text-align: left;\">2023-12-28T14:30:00</td><td style = \"text-align: right;\">194.14</td><td style = \"text-align: right;\">194.66</td><td style = \"text-align: right;\">193.17</td><td style = \"text-align: right;\">193.58</td><td style = \"text-align: right;\">193.58</td><td style = \"text-align: right;\">3.40499e7</td><td style = \"text-align: right;\">189.004</td><td style = \"text-align: right;\">171.946</td><td style = \"text-align: right;\">0.00222629</td></tr><tr><td class = \"rowNumber\" style = \"font-weight: bold; text-align: right;\">10</td><td style = \"text-align: left;\">AAPL</td><td style = \"text-align: left;\">2023-12-29T14:30:00</td><td style = \"text-align: right;\">193.9</td><td style = \"text-align: right;\">194.4</td><td style = \"text-align: right;\">191.73</td><td style = \"text-align: right;\">192.53</td><td style = \"text-align: right;\">192.53</td><td style = \"text-align: right;\">4.26288e7</td><td style = \"text-align: right;\">189.534</td><td style = \"text-align: right;\">172.209</td><td style = \"text-align: right;\">-0.00542413</td></tr></tbody></table></div>"
      ],
      "text/latex": [
       "\\begin{tabular}{r|ccccccccc}\n",
       "\t& ticker & timestamp & open & high & low & close & adjclose & vol & \\\\\n",
       "\t\\hline\n",
       "\t& String & DateTime & Float64 & Float64 & Float64 & Float64 & Float64 & Float64 & \\\\\n",
       "\t\\hline\n",
       "\t1 & AAPL & 2023-12-15T14:30:00 & 197.53 & 198.4 & 197.0 & 197.57 & 197.57 & 1.28257e8 & $\\dots$ \\\\\n",
       "\t2 & AAPL & 2023-12-18T14:30:00 & 196.09 & 196.63 & 194.39 & 195.89 & 195.89 & 5.57519e7 & $\\dots$ \\\\\n",
       "\t3 & AAPL & 2023-12-19T14:30:00 & 196.16 & 196.95 & 195.89 & 196.94 & 196.94 & 4.07141e7 & $\\dots$ \\\\\n",
       "\t4 & AAPL & 2023-12-20T14:30:00 & 196.9 & 197.68 & 194.83 & 194.83 & 194.83 & 5.22428e7 & $\\dots$ \\\\\n",
       "\t5 & AAPL & 2023-12-21T14:30:00 & 196.1 & 197.08 & 193.5 & 194.68 & 194.68 & 4.64825e7 & $\\dots$ \\\\\n",
       "\t6 & AAPL & 2023-12-22T14:30:00 & 195.18 & 195.41 & 192.97 & 193.6 & 193.6 & 3.71228e7 & $\\dots$ \\\\\n",
       "\t7 & AAPL & 2023-12-26T14:30:00 & 193.61 & 193.89 & 192.83 & 193.05 & 193.05 & 2.89193e7 & $\\dots$ \\\\\n",
       "\t8 & AAPL & 2023-12-27T14:30:00 & 192.49 & 193.5 & 191.09 & 193.15 & 193.15 & 4.80877e7 & $\\dots$ \\\\\n",
       "\t9 & AAPL & 2023-12-28T14:30:00 & 194.14 & 194.66 & 193.17 & 193.58 & 193.58 & 3.40499e7 & $\\dots$ \\\\\n",
       "\t10 & AAPL & 2023-12-29T14:30:00 & 193.9 & 194.4 & 191.73 & 192.53 & 192.53 & 4.26288e7 & $\\dots$ \\\\\n",
       "\\end{tabular}\n"
      ],
      "text/plain": [
       "\u001b[1m10×11 DataFrame\u001b[0m\n",
       "\u001b[1m Row \u001b[0m│\u001b[1m ticker \u001b[0m\u001b[1m timestamp           \u001b[0m\u001b[1m open    \u001b[0m\u001b[1m high    \u001b[0m\u001b[1m low     \u001b[0m\u001b[1m close   \u001b[0m\u001b[1m adjclo\u001b[0m ⋯\n",
       "     │\u001b[90m String \u001b[0m\u001b[90m DateTime            \u001b[0m\u001b[90m Float64 \u001b[0m\u001b[90m Float64 \u001b[0m\u001b[90m Float64 \u001b[0m\u001b[90m Float64 \u001b[0m\u001b[90m Float6\u001b[0m ⋯\n",
       "─────┼──────────────────────────────────────────────────────────────────────────\n",
       "   1 │ AAPL    2023-12-15T14:30:00   197.53   198.4    197.0    197.57    197. ⋯\n",
       "   2 │ AAPL    2023-12-18T14:30:00   196.09   196.63   194.39   195.89    195.\n",
       "   3 │ AAPL    2023-12-19T14:30:00   196.16   196.95   195.89   196.94    196.\n",
       "   4 │ AAPL    2023-12-20T14:30:00   196.9    197.68   194.83   194.83    194.\n",
       "   5 │ AAPL    2023-12-21T14:30:00   196.1    197.08   193.5    194.68    194. ⋯\n",
       "   6 │ AAPL    2023-12-22T14:30:00   195.18   195.41   192.97   193.6     193.\n",
       "   7 │ AAPL    2023-12-26T14:30:00   193.61   193.89   192.83   193.05    193.\n",
       "   8 │ AAPL    2023-12-27T14:30:00   192.49   193.5    191.09   193.15    193.\n",
       "   9 │ AAPL    2023-12-28T14:30:00   194.14   194.66   193.17   193.58    193. ⋯\n",
       "  10 │ AAPL    2023-12-29T14:30:00   193.9    194.4    191.73   192.53    192.\n",
       "\u001b[36m                                                               5 columns omitted\u001b[0m"
      ]
     },
     "metadata": {},
     "output_type": "display_data"
    }
   ],
   "source": [
    "data = get_stock_prices(\"AAPL\", \"2020-01-01\", \"2024-01-01\", \"1d\")\n",
    "\n",
    "last(data, 10)"
   ]
  },
  {
   "cell_type": "code",
   "execution_count": 26,
   "metadata": {},
   "outputs": [
    {
     "data": {
      "text/plain": [
       "5-element Vector{Real}:\n",
       " 0\n",
       " 1.0\n",
       " 0.5\n",
       " 0.3333333333333333\n",
       " 0.25"
      ]
     },
     "metadata": {},
     "output_type": "display_data"
    }
   ],
   "source": [
    "using DataFrames\n",
    "\n",
    "# Create a sample DataFrame\n",
    "df = DataFrame(A = 1:5, B = 6:10)\n",
    "\n",
    "# Shift the column manually\n",
    "df.A_shifted = [missing; df.A[1:end-1]]  # Shift down by 1\n",
    "\n",
    "# Calculate the rate of change\n",
    "# The result for the first row will be missing due to the shift\n",
    "df.rate_of_change = (df.A - df.A_shifted) ./ df.A_shifted\n",
    "\n",
    "# Optionally, handle missing values\n",
    "# For instance, replace them with a default value\n",
    "df.rate_of_change = coalesce.(df.rate_of_change, 0) # Replacing missing with 0\n"
   ]
  },
  {
   "cell_type": "code",
   "execution_count": null,
   "metadata": {},
   "outputs": [],
   "source": [
    "# do a value count of position\n",
    "countmap(data_filled[!, :position])"
   ]
  },
  {
   "cell_type": "code",
   "execution_count": null,
   "metadata": {},
   "outputs": [],
   "source": [
    "# get last element of cum_strategy_return\n",
    "data_filled[end, :cum_strategy_return] - data_filled[end, :cum_return]"
   ]
  },
  {
   "cell_type": "code",
   "execution_count": 22,
   "metadata": {},
   "outputs": [],
   "source": [
    "# test a range of sma1 and sma2 values to minimize the difference\n",
    "sma1_range = 10:10:100\n",
    "sma2_range = 200:10:300\n",
    "results = DataFrame(sma1=[], sma2=[], diff=[])\n",
    "for sma1 in sma1_range\n",
    "    for sma2 in sma2_range\n",
    "        data = get_stock_prices(\"AAPL\", \"2020-01-01\", \"2024-01-01\", \"1d\")\n",
    "        output = backtest_strategy(data[.!isnan.(data[:, :SMA2]), :])\n",
    "        diff = output[1]\n",
    "        push!(results, [sma1, sma2, diff])\n",
    "    end\n",
    "end"
   ]
  },
  {
   "cell_type": "code",
   "execution_count": 19,
   "metadata": {},
   "outputs": [
    {
     "ename": "MethodError",
     "evalue": "MethodError: no method matching getindex(::Tuple{Float64, Float64}, ::Colon, ::Symbol)\n\nClosest candidates are:\n  getindex(::Tuple, ::Colon)\n   @ Base tuple.jl:33\n  getindex(::Tuple, !Matched::Int64)\n   @ Base tuple.jl:29\n  getindex(::Tuple, !Matched::Integer)\n   @ Base tuple.jl:30\n  ...\n",
     "output_type": "error",
     "traceback": [
      "MethodError: no method matching getindex(::Tuple{Float64, Float64}, ::Colon, ::Symbol)\n",
      "\n",
      "Closest candidates are:\n",
      "  getindex(::Tuple, ::Colon)\n",
      "   @ Base tuple.jl:33\n",
      "  getindex(::Tuple, !Matched::Int64)\n",
      "   @ Base tuple.jl:29\n",
      "  getindex(::Tuple, !Matched::Integer)\n",
      "   @ Base tuple.jl:30\n",
      "  ...\n",
      "\n",
      "\n",
      "Stacktrace:\n",
      "  [1] calculate_difference(sma::Vector{Float64})\n",
      "    @ Main ~/Study/algo-trading-notes/notebooks/SMA_backtesting_julia.ipynb:8\n",
      "  [2] #finite_difference_gradient!#10\n",
      "    @ ~/.julia/packages/FiniteDiff/BgLLM/src/gradients.jl:318 [inlined]\n",
      "  [3] finite_difference_gradient!\n",
      "    @ ~/.julia/packages/FiniteDiff/BgLLM/src/gradients.jl:258 [inlined]\n",
      "  [4] (::NLSolversBase.var\"#g!#15\"{typeof(calculate_difference), FiniteDiff.GradientCache{Nothing, Nothing, Nothing, Vector{Float64}, Val{:central}(), Float64, Val{true}()}})(storage::Vector{Float64}, x::Vector{Float64})\n",
      "    @ NLSolversBase ~/.julia/packages/NLSolversBase/kavn7/src/objective_types/oncedifferentiable.jl:57\n",
      "  [5] (::NLSolversBase.var\"#fg!#16\"{typeof(calculate_difference)})(storage::Vector{Float64}, x::Vector{Float64})\n",
      "    @ NLSolversBase ~/.julia/packages/NLSolversBase/kavn7/src/objective_types/oncedifferentiable.jl:61\n",
      "  [6] value_gradient!!(obj::OnceDifferentiable{Float64, Vector{Float64}, Vector{Float64}}, x::Vector{Float64})\n",
      "    @ NLSolversBase ~/.julia/packages/NLSolversBase/kavn7/src/interface.jl:82\n",
      "  [7] initial_state(method::BFGS{LineSearches.InitialStatic{Float64}, LineSearches.HagerZhang{Float64, Base.RefValue{Bool}}, Nothing, Nothing, Flat}, options::Optim.Options{Float64, Nothing}, d::OnceDifferentiable{Float64, Vector{Float64}, Vector{Float64}}, initial_x::Vector{Float64})\n",
      "    @ Optim ~/.julia/packages/Optim/2SmQa/src/multivariate/solvers/first_order/bfgs.jl:94\n",
      "  [8] optimize\n",
      "    @ ~/.julia/packages/Optim/2SmQa/src/multivariate/optimize/optimize.jl:36 [inlined]\n",
      "  [9] #optimize#91\n",
      "    @ ~/.julia/packages/Optim/2SmQa/src/multivariate/optimize/interface.jl:143 [inlined]\n",
      " [10] optimize\n",
      "    @ ~/.julia/packages/Optim/2SmQa/src/multivariate/optimize/interface.jl:139 [inlined]\n",
      " [11] optimize(f::Function, initial_x::Vector{Float64}, method::BFGS{LineSearches.InitialStatic{Float64}, LineSearches.HagerZhang{Float64, Base.RefValue{Bool}}, Nothing, Nothing, Flat})\n",
      "    @ Optim ~/.julia/packages/Optim/2SmQa/src/multivariate/optimize/interface.jl:139\n",
      " [12] top-level scope\n",
      "    @ ~/Study/algo-trading-notes/notebooks/SMA_backtesting_julia.ipynb:16"
     ]
    }
   ],
   "source": [
    "using Optim\n",
    "\n",
    "# Define a function that calculates the difference for given sma1 and sma2\n",
    "function calculate_difference(sma)\n",
    "    sma1, sma2 = sma\n",
    "    data = get_stock_prices(\"AAPL\", \"2020-01-01\", \"2024-01-01\", \"1d\")\n",
    "    data = backtest_strategy(data[.!isnan.(data[:, :return]), :])\n",
    "    output = backtest_strategy(data[.!isnan.(data[:, :return]), :])[0]\n",
    "    return output\n",
    "end\n",
    "\n",
    "# Initial guess\n",
    "initial_sma = [50.0, 250.0]\n",
    "\n",
    "# Perform optimization\n",
    "opt_result = optimize(calculate_difference, initial_sma, BFGS())\n",
    "\n",
    "# Get the optimized parameters\n",
    "optimized_sma = Optim.minimizer(opt_result)"
   ]
  }
 ],
 "metadata": {
  "kernelspec": {
   "display_name": "Julia 1.9.2",
   "language": "julia",
   "name": "julia-1.9"
  },
  "language_info": {
   "file_extension": ".jl",
   "mimetype": "application/julia",
   "name": "julia",
   "version": "1.9.2"
  }
 },
 "nbformat": 4,
 "nbformat_minor": 2
}
