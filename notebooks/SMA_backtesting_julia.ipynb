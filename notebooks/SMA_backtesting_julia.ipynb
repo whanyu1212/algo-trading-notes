{
 "cells": [
  {
   "cell_type": "code",
   "execution_count": 3,
   "metadata": {},
   "outputs": [
    {
     "name": "stderr",
     "output_type": "stream",
     "text": [
      "\u001b[32m\u001b[1m  Activating\u001b[22m\u001b[39m project at `/workspaces/algo-trading-notes`\n"
     ]
    }
   ],
   "source": [
    "using Pkg\n",
    "Pkg.activate(\"../\")"
   ]
  },
  {
   "cell_type": "code",
   "execution_count": 4,
   "metadata": {},
   "outputs": [],
   "source": [
    "using YFinance\n",
    "using Dates\n",
    "using CSV\n",
    "using RollingFunctions\n",
    "using DataFrames\n",
    "using StatsBase"
   ]
  },
  {
   "cell_type": "code",
   "execution_count": 5,
   "metadata": {},
   "outputs": [
    {
     "data": {
      "text/plain": [
       "get_stock_prices (generic function with 1 method)"
      ]
     },
     "execution_count": 5,
     "metadata": {},
     "output_type": "execute_result"
    }
   ],
   "source": [
    "# Remark:\n",
    "# Understand the difference between filling in NaN and missing in Julia\n",
    "\n",
    "function get_stock_prices(ticker::String, startdt::String, enddt::String, interval::String)\n",
    "    data_ordered_dict = get_prices(ticker, startdt=startdt, enddt=enddt, interval=interval)\n",
    "    df = DataFrame(data_ordered_dict)\n",
    "    return df\n",
    "end"
   ]
  },
  {
   "cell_type": "code",
   "execution_count": 11,
   "metadata": {},
   "outputs": [
    {
     "data": {
      "text/html": [
       "<div><div style = \"float: left;\"><span>2768×8 DataFrame</span></div><div style = \"float: right;\"><span style = \"font-style: italic;\">2743 rows omitted</span></div><div style = \"clear: both;\"></div></div><div class = \"data-frame\" style = \"overflow-x: scroll;\"><table class = \"data-frame\" style = \"margin-bottom: 6px;\"><thead><tr class = \"header\"><th class = \"rowNumber\" style = \"font-weight: bold; text-align: right;\">Row</th><th style = \"text-align: left;\">ticker</th><th style = \"text-align: left;\">timestamp</th><th style = \"text-align: left;\">open</th><th style = \"text-align: left;\">high</th><th style = \"text-align: left;\">low</th><th style = \"text-align: left;\">close</th><th style = \"text-align: left;\">adjclose</th><th style = \"text-align: left;\">vol</th></tr><tr class = \"subheader headerLastRow\"><th class = \"rowNumber\" style = \"font-weight: bold; text-align: right;\"></th><th title = \"String\" style = \"text-align: left;\">String</th><th title = \"DateTime\" style = \"text-align: left;\">DateTime</th><th title = \"Float64\" style = \"text-align: left;\">Float64</th><th title = \"Float64\" style = \"text-align: left;\">Float64</th><th title = \"Float64\" style = \"text-align: left;\">Float64</th><th title = \"Float64\" style = \"text-align: left;\">Float64</th><th title = \"Float64\" style = \"text-align: left;\">Float64</th><th title = \"Float64\" style = \"text-align: left;\">Float64</th></tr></thead><tbody><tr><td class = \"rowNumber\" style = \"font-weight: bold; text-align: right;\">1</td><td style = \"text-align: left;\">AAPL</td><td style = \"text-align: left;\">2010-01-04T14:30:00</td><td style = \"text-align: right;\">6.46144</td><td style = \"text-align: right;\">6.49383</td><td style = \"text-align: right;\">6.42965</td><td style = \"text-align: right;\">7.64321</td><td style = \"text-align: right;\">6.479</td><td style = \"text-align: right;\">4.18525e8</td></tr><tr><td class = \"rowNumber\" style = \"font-weight: bold; text-align: right;\">2</td><td style = \"text-align: left;\">AAPL</td><td style = \"text-align: left;\">2010-01-05T14:30:00</td><td style = \"text-align: right;\">6.49686</td><td style = \"text-align: right;\">6.52683</td><td style = \"text-align: right;\">6.45599</td><td style = \"text-align: right;\">7.65643</td><td style = \"text-align: right;\">6.4902</td><td style = \"text-align: right;\">5.10222e8</td></tr><tr><td class = \"rowNumber\" style = \"font-weight: bold; text-align: right;\">3</td><td style = \"text-align: left;\">AAPL</td><td style = \"text-align: left;\">2010-01-06T14:30:00</td><td style = \"text-align: right;\">6.4902</td><td style = \"text-align: right;\">6.51593</td><td style = \"text-align: right;\">6.3803</td><td style = \"text-align: right;\">7.53464</td><td style = \"text-align: right;\">6.38696</td><td style = \"text-align: right;\">4.68055e8</td></tr><tr><td class = \"rowNumber\" style = \"font-weight: bold; text-align: right;\">4</td><td style = \"text-align: left;\">AAPL</td><td style = \"text-align: left;\">2010-01-07T14:30:00</td><td style = \"text-align: right;\">6.41058</td><td style = \"text-align: right;\">6.41815</td><td style = \"text-align: right;\">6.32884</td><td style = \"text-align: right;\">7.52071</td><td style = \"text-align: right;\">6.37516</td><td style = \"text-align: right;\">4.04454e8</td></tr><tr><td class = \"rowNumber\" style = \"font-weight: bold; text-align: right;\">5</td><td style = \"text-align: left;\">AAPL</td><td style = \"text-align: left;\">2010-01-08T14:30:00</td><td style = \"text-align: right;\">6.36668</td><td style = \"text-align: right;\">6.41815</td><td style = \"text-align: right;\">6.32914</td><td style = \"text-align: right;\">7.57071</td><td style = \"text-align: right;\">6.41754</td><td style = \"text-align: right;\">3.79431e8</td></tr><tr><td class = \"rowNumber\" style = \"font-weight: bold; text-align: right;\">6</td><td style = \"text-align: left;\">AAPL</td><td style = \"text-align: left;\">2010-01-11T14:30:00</td><td style = \"text-align: right;\">6.44237</td><td style = \"text-align: right;\">6.44842</td><td style = \"text-align: right;\">6.31067</td><td style = \"text-align: right;\">7.50393</td><td style = \"text-align: right;\">6.36093</td><td style = \"text-align: right;\">3.91823e8</td></tr><tr><td class = \"rowNumber\" style = \"font-weight: bold; text-align: right;\">7</td><td style = \"text-align: left;\">AAPL</td><td style = \"text-align: left;\">2010-01-12T14:30:00</td><td style = \"text-align: right;\">6.33307</td><td style = \"text-align: right;\">6.35063</td><td style = \"text-align: right;\">6.24922</td><td style = \"text-align: right;\">7.41857</td><td style = \"text-align: right;\">6.28857</td><td style = \"text-align: right;\">5.03911e8</td></tr><tr><td class = \"rowNumber\" style = \"font-weight: bold; text-align: right;\">8</td><td style = \"text-align: left;\">AAPL</td><td style = \"text-align: left;\">2010-01-13T14:30:00</td><td style = \"text-align: right;\">6.29312</td><td style = \"text-align: right;\">6.38575</td><td style = \"text-align: right;\">6.17898</td><td style = \"text-align: right;\">7.52321</td><td style = \"text-align: right;\">6.37728</td><td style = \"text-align: right;\">5.13602e8</td></tr><tr><td class = \"rowNumber\" style = \"font-weight: bold; text-align: right;\">9</td><td style = \"text-align: left;\">AAPL</td><td style = \"text-align: left;\">2010-01-14T14:30:00</td><td style = \"text-align: right;\">6.36093</td><td style = \"text-align: right;\">6.37152</td><td style = \"text-align: right;\">6.32793</td><td style = \"text-align: right;\">7.47964</td><td style = \"text-align: right;\">6.34034</td><td style = \"text-align: right;\">3.66955e8</td></tr><tr><td class = \"rowNumber\" style = \"font-weight: bold; text-align: right;\">10</td><td style = \"text-align: left;\">AAPL</td><td style = \"text-align: left;\">2010-01-15T14:30:00</td><td style = \"text-align: right;\">6.38575</td><td style = \"text-align: right;\">6.40604</td><td style = \"text-align: right;\">6.23257</td><td style = \"text-align: right;\">7.35464</td><td style = \"text-align: right;\">6.23438</td><td style = \"text-align: right;\">5.03579e8</td></tr><tr><td class = \"rowNumber\" style = \"font-weight: bold; text-align: right;\">11</td><td style = \"text-align: left;\">AAPL</td><td style = \"text-align: left;\">2010-01-19T14:30:00</td><td style = \"text-align: right;\">6.30704</td><td style = \"text-align: right;\">6.51472</td><td style = \"text-align: right;\">6.27404</td><td style = \"text-align: right;\">7.68</td><td style = \"text-align: right;\">6.51018</td><td style = \"text-align: right;\">6.18812e8</td></tr><tr><td class = \"rowNumber\" style = \"font-weight: bold; text-align: right;\">12</td><td style = \"text-align: left;\">AAPL</td><td style = \"text-align: left;\">2010-01-20T14:30:00</td><td style = \"text-align: right;\">6.50625</td><td style = \"text-align: right;\">6.52562</td><td style = \"text-align: right;\">6.34246</td><td style = \"text-align: right;\">7.56179</td><td style = \"text-align: right;\">6.40997</td><td style = \"text-align: right;\">5.1891e8</td></tr><tr><td class = \"rowNumber\" style = \"font-weight: bold; text-align: right;\">13</td><td style = \"text-align: left;\">AAPL</td><td style = \"text-align: left;\">2010-01-21T14:30:00</td><td style = \"text-align: right;\">6.42057</td><td style = \"text-align: right;\">6.45781</td><td style = \"text-align: right;\">6.27313</td><td style = \"text-align: right;\">7.43107</td><td style = \"text-align: right;\">6.29917</td><td style = \"text-align: right;\">5.1552e8</td></tr><tr><td style = \"text-align: right;\">&vellip;</td><td style = \"text-align: right;\">&vellip;</td><td style = \"text-align: right;\">&vellip;</td><td style = \"text-align: right;\">&vellip;</td><td style = \"text-align: right;\">&vellip;</td><td style = \"text-align: right;\">&vellip;</td><td style = \"text-align: right;\">&vellip;</td><td style = \"text-align: right;\">&vellip;</td><td style = \"text-align: right;\">&vellip;</td></tr><tr><td class = \"rowNumber\" style = \"font-weight: bold; text-align: right;\">2757</td><td style = \"text-align: left;\">AAPL</td><td style = \"text-align: left;\">2020-12-14T14:30:00</td><td style = \"text-align: right;\">120.472</td><td style = \"text-align: right;\">121.209</td><td style = \"text-align: right;\">119.431</td><td style = \"text-align: right;\">121.78</td><td style = \"text-align: right;\">119.667</td><td style = \"text-align: right;\">7.78103e7</td></tr><tr><td class = \"rowNumber\" style = \"font-weight: bold; text-align: right;\">2758</td><td style = \"text-align: left;\">AAPL</td><td style = \"text-align: left;\">2020-12-15T14:30:00</td><td style = \"text-align: right;\">122.182</td><td style = \"text-align: right;\">125.68</td><td style = \"text-align: right;\">121.976</td><td style = \"text-align: right;\">127.88</td><td style = \"text-align: right;\">125.661</td><td style = \"text-align: right;\">1.54515e8</td></tr><tr><td class = \"rowNumber\" style = \"font-weight: bold; text-align: right;\">2759</td><td style = \"text-align: left;\">AAPL</td><td style = \"text-align: left;\">2020-12-16T14:30:00</td><td style = \"text-align: right;\">125.199</td><td style = \"text-align: right;\">126.142</td><td style = \"text-align: right;\">124.364</td><td style = \"text-align: right;\">127.81</td><td style = \"text-align: right;\">125.592</td><td style = \"text-align: right;\">9.65043e7</td></tr><tr><td class = \"rowNumber\" style = \"font-weight: bold; text-align: right;\">2760</td><td style = \"text-align: left;\">AAPL</td><td style = \"text-align: left;\">2020-12-17T14:30:00</td><td style = \"text-align: right;\">126.663</td><td style = \"text-align: right;\">127.331</td><td style = \"text-align: right;\">125.818</td><td style = \"text-align: right;\">128.7</td><td style = \"text-align: right;\">126.466</td><td style = \"text-align: right;\">9.27222e7</td></tr><tr><td class = \"rowNumber\" style = \"font-weight: bold; text-align: right;\">2761</td><td style = \"text-align: left;\">AAPL</td><td style = \"text-align: left;\">2020-12-18T14:30:00</td><td style = \"text-align: right;\">126.722</td><td style = \"text-align: right;\">126.86</td><td style = \"text-align: right;\">123.931</td><td style = \"text-align: right;\">126.66</td><td style = \"text-align: right;\">124.462</td><td style = \"text-align: right;\">1.892e8</td></tr><tr><td class = \"rowNumber\" style = \"font-weight: bold; text-align: right;\">2762</td><td style = \"text-align: left;\">AAPL</td><td style = \"text-align: left;\">2020-12-21T14:30:00</td><td style = \"text-align: right;\">122.85</td><td style = \"text-align: right;\">126.083</td><td style = \"text-align: right;\">121.308</td><td style = \"text-align: right;\">128.23</td><td style = \"text-align: right;\">126.005</td><td style = \"text-align: right;\">1.19147e8</td></tr><tr><td class = \"rowNumber\" style = \"font-weight: bold; text-align: right;\">2763</td><td style = \"text-align: left;\">AAPL</td><td style = \"text-align: left;\">2020-12-22T14:30:00</td><td style = \"text-align: right;\">129.326</td><td style = \"text-align: right;\">132.077</td><td style = \"text-align: right;\">127.4</td><td style = \"text-align: right;\">131.88</td><td style = \"text-align: right;\">129.591</td><td style = \"text-align: right;\">1.65974e8</td></tr><tr><td class = \"rowNumber\" style = \"font-weight: bold; text-align: right;\">2764</td><td style = \"text-align: left;\">AAPL</td><td style = \"text-align: left;\">2020-12-23T14:30:00</td><td style = \"text-align: right;\">129.866</td><td style = \"text-align: right;\">130.132</td><td style = \"text-align: right;\">128.51</td><td style = \"text-align: right;\">130.96</td><td style = \"text-align: right;\">128.687</td><td style = \"text-align: right;\">8.66926e7</td></tr><tr><td class = \"rowNumber\" style = \"font-weight: bold; text-align: right;\">2765</td><td style = \"text-align: left;\">AAPL</td><td style = \"text-align: left;\">2020-12-24T14:30:00</td><td style = \"text-align: right;\">129.041</td><td style = \"text-align: right;\">131.144</td><td style = \"text-align: right;\">128.825</td><td style = \"text-align: right;\">131.97</td><td style = \"text-align: right;\">129.68</td><td style = \"text-align: right;\">5.39768e7</td></tr><tr><td class = \"rowNumber\" style = \"font-weight: bold; text-align: right;\">2766</td><td style = \"text-align: left;\">AAPL</td><td style = \"text-align: left;\">2020-12-28T14:30:00</td><td style = \"text-align: right;\">131.665</td><td style = \"text-align: right;\">134.957</td><td style = \"text-align: right;\">131.193</td><td style = \"text-align: right;\">136.69</td><td style = \"text-align: right;\">134.318</td><td style = \"text-align: right;\">1.22326e8</td></tr><tr><td class = \"rowNumber\" style = \"font-weight: bold; text-align: right;\">2767</td><td style = \"text-align: left;\">AAPL</td><td style = \"text-align: left;\">2020-12-29T14:30:00</td><td style = \"text-align: right;\">135.654</td><td style = \"text-align: right;\">136.381</td><td style = \"text-align: right;\">132.009</td><td style = \"text-align: right;\">134.87</td><td style = \"text-align: right;\">132.529</td><td style = \"text-align: right;\">1.18947e8</td></tr><tr><td class = \"rowNumber\" style = \"font-weight: bold; text-align: right;\">2768</td><td style = \"text-align: left;\">AAPL</td><td style = \"text-align: left;\">2020-12-30T14:30:00</td><td style = \"text-align: right;\">133.227</td><td style = \"text-align: right;\">133.63</td><td style = \"text-align: right;\">131.085</td><td style = \"text-align: right;\">133.72</td><td style = \"text-align: right;\">131.399</td><td style = \"text-align: right;\">9.47782e7</td></tr></tbody></table></div>"
      ],
      "text/latex": [
       "\\begin{tabular}{r|cccccccc}\n",
       "\t& ticker & timestamp & open & high & low & close & adjclose & vol\\\\\n",
       "\t\\hline\n",
       "\t& String & DateTime & Float64 & Float64 & Float64 & Float64 & Float64 & Float64\\\\\n",
       "\t\\hline\n",
       "\t1 & AAPL & 2010-01-04T14:30:00 & 6.46144 & 6.49383 & 6.42965 & 7.64321 & 6.479 & 4.18525e8 \\\\\n",
       "\t2 & AAPL & 2010-01-05T14:30:00 & 6.49686 & 6.52683 & 6.45599 & 7.65643 & 6.4902 & 5.10222e8 \\\\\n",
       "\t3 & AAPL & 2010-01-06T14:30:00 & 6.4902 & 6.51593 & 6.3803 & 7.53464 & 6.38696 & 4.68055e8 \\\\\n",
       "\t4 & AAPL & 2010-01-07T14:30:00 & 6.41058 & 6.41815 & 6.32884 & 7.52071 & 6.37516 & 4.04454e8 \\\\\n",
       "\t5 & AAPL & 2010-01-08T14:30:00 & 6.36668 & 6.41815 & 6.32914 & 7.57071 & 6.41754 & 3.79431e8 \\\\\n",
       "\t6 & AAPL & 2010-01-11T14:30:00 & 6.44237 & 6.44842 & 6.31067 & 7.50393 & 6.36093 & 3.91823e8 \\\\\n",
       "\t7 & AAPL & 2010-01-12T14:30:00 & 6.33307 & 6.35063 & 6.24922 & 7.41857 & 6.28857 & 5.03911e8 \\\\\n",
       "\t8 & AAPL & 2010-01-13T14:30:00 & 6.29312 & 6.38575 & 6.17898 & 7.52321 & 6.37728 & 5.13602e8 \\\\\n",
       "\t9 & AAPL & 2010-01-14T14:30:00 & 6.36093 & 6.37152 & 6.32793 & 7.47964 & 6.34034 & 3.66955e8 \\\\\n",
       "\t10 & AAPL & 2010-01-15T14:30:00 & 6.38575 & 6.40604 & 6.23257 & 7.35464 & 6.23438 & 5.03579e8 \\\\\n",
       "\t11 & AAPL & 2010-01-19T14:30:00 & 6.30704 & 6.51472 & 6.27404 & 7.68 & 6.51018 & 6.18812e8 \\\\\n",
       "\t12 & AAPL & 2010-01-20T14:30:00 & 6.50625 & 6.52562 & 6.34246 & 7.56179 & 6.40997 & 5.1891e8 \\\\\n",
       "\t13 & AAPL & 2010-01-21T14:30:00 & 6.42057 & 6.45781 & 6.27313 & 7.43107 & 6.29917 & 5.1552e8 \\\\\n",
       "\t14 & AAPL & 2010-01-22T14:30:00 & 6.26012 & 6.28191 & 5.96888 & 7.0625 & 5.98674 & 7.47457e8 \\\\\n",
       "\t15 & AAPL & 2010-01-25T14:30:00 & 6.13084 & 6.19714 & 6.06061 & 7.2525 & 6.1478 & 9.03372e8 \\\\\n",
       "\t16 & AAPL & 2010-01-26T14:30:00 & 6.23499 & 6.46992 & 6.13296 & 7.355 & 6.23469 & 1.58271e9 \\\\\n",
       "\t17 & AAPL & 2010-01-27T14:30:00 & 6.26223 & 6.37516 & 6.04063 & 7.42429 & 6.29342 & 1.46019e9 \\\\\n",
       "\t18 & AAPL & 2010-01-28T14:30:00 & 6.20411 & 6.22136 & 6.0155 & 7.1175 & 6.03336 & 9.94754e8 \\\\\n",
       "\t19 & AAPL & 2010-01-29T14:30:00 & 6.08755 & 6.12146 & 5.75968 & 6.85929 & 5.81448 & 1.05617e9 \\\\\n",
       "\t20 & AAPL & 2010-02-01T14:30:00 & 5.82386 & 5.93376 & 5.79147 & 6.95464 & 5.89531 & 6.35655e8 \\\\\n",
       "\t21 & AAPL & 2010-02-02T14:30:00 & 5.93103 & 5.94345 & 5.85444 & 6.995 & 5.92952 & 5.91971e8 \\\\\n",
       "\t22 & AAPL & 2010-02-03T14:30:00 & 5.90863 & 6.06091 & 5.88592 & 7.11536 & 6.03154 & 5.21601e8 \\\\\n",
       "\t23 & AAPL & 2010-02-04T14:30:00 & 5.95586 & 6.00551 & 5.79964 & 6.85893 & 5.81418 & 6.42246e8 \\\\\n",
       "\t24 & AAPL & 2010-02-05T14:30:00 & 5.83173 & 5.93376 & 5.77784 & 6.98071 & 5.91741 & 7.20788e8 \\\\\n",
       "\t25 & AAPL & 2010-02-08T14:30:00 & 5.92437 & 5.99067 & 5.87321 & 6.93286 & 5.87684 & 4.0542e8 \\\\\n",
       "\t26 & AAPL & 2010-02-09T14:30:00 & 5.94647 & 5.97917 & 5.89592 & 7.00679 & 5.93951 & 5.36485e8 \\\\\n",
       "\t27 & AAPL & 2010-02-10T14:30:00 & 5.93043 & 5.95192 & 5.88108 & 6.96857 & 5.90711 & 3.13948e8 \\\\\n",
       "\t28 & AAPL & 2010-02-11T14:30:00 & 5.89985 & 6.04729 & 5.87503 & 7.09536 & 6.01459 & 4.66517e8 \\\\\n",
       "\t29 & AAPL & 2010-02-12T14:30:00 & 5.99764 & 6.1045 & 5.91862 & 7.15643 & 6.06636 & 5.55628e8 \\\\\n",
       "\t30 & AAPL & 2010-02-16T14:30:00 & 6.11359 & 6.16657 & 6.10087 & 7.26429 & 6.15779 & 4.60915e8 \\\\\n",
       "\t$\\dots$ & $\\dots$ & $\\dots$ & $\\dots$ & $\\dots$ & $\\dots$ & $\\dots$ & $\\dots$ & $\\dots$ \\\\\n",
       "\\end{tabular}\n"
      ],
      "text/plain": [
       "\u001b[1m2768×8 DataFrame\u001b[0m\n",
       "\u001b[1m  Row \u001b[0m│\u001b[1m ticker \u001b[0m\u001b[1m timestamp           \u001b[0m\u001b[1m open      \u001b[0m\u001b[1m high      \u001b[0m\u001b[1m low       \u001b[0m\u001b[1m close   \u001b[0m ⋯\n",
       "      │\u001b[90m String \u001b[0m\u001b[90m DateTime            \u001b[0m\u001b[90m Float64   \u001b[0m\u001b[90m Float64   \u001b[0m\u001b[90m Float64   \u001b[0m\u001b[90m Float64 \u001b[0m ⋯\n",
       "──────┼─────────────────────────────────────────────────────────────────────────\n",
       "    1 │ AAPL    2010-01-04T14:30:00    6.46144    6.49383    6.42965    7.6432 ⋯\n",
       "    2 │ AAPL    2010-01-05T14:30:00    6.49686    6.52683    6.45599    7.6564\n",
       "    3 │ AAPL    2010-01-06T14:30:00    6.4902     6.51593    6.3803     7.5346\n",
       "    4 │ AAPL    2010-01-07T14:30:00    6.41058    6.41815    6.32884    7.5207\n",
       "    5 │ AAPL    2010-01-08T14:30:00    6.36668    6.41815    6.32914    7.5707 ⋯\n",
       "    6 │ AAPL    2010-01-11T14:30:00    6.44237    6.44842    6.31067    7.5039\n",
       "    7 │ AAPL    2010-01-12T14:30:00    6.33307    6.35063    6.24922    7.4185\n",
       "    8 │ AAPL    2010-01-13T14:30:00    6.29312    6.38575    6.17898    7.5232\n",
       "    9 │ AAPL    2010-01-14T14:30:00    6.36093    6.37152    6.32793    7.4796 ⋯\n",
       "   10 │ AAPL    2010-01-15T14:30:00    6.38575    6.40604    6.23257    7.3546\n",
       "   11 │ AAPL    2010-01-19T14:30:00    6.30704    6.51472    6.27404    7.68\n",
       "  ⋮   │   ⋮              ⋮               ⋮          ⋮          ⋮          ⋮    ⋱\n",
       " 2759 │ AAPL    2020-12-16T14:30:00  125.199    126.142    124.364    127.81\n",
       " 2760 │ AAPL    2020-12-17T14:30:00  126.663    127.331    125.818    128.7    ⋯\n",
       " 2761 │ AAPL    2020-12-18T14:30:00  126.722    126.86     123.931    126.66\n",
       " 2762 │ AAPL    2020-12-21T14:30:00  122.85     126.083    121.308    128.23\n",
       " 2763 │ AAPL    2020-12-22T14:30:00  129.326    132.077    127.4      131.88\n",
       " 2764 │ AAPL    2020-12-23T14:30:00  129.866    130.132    128.51     130.96   ⋯\n",
       " 2765 │ AAPL    2020-12-24T14:30:00  129.041    131.144    128.825    131.97\n",
       " 2766 │ AAPL    2020-12-28T14:30:00  131.665    134.957    131.193    136.69\n",
       " 2767 │ AAPL    2020-12-29T14:30:00  135.654    136.381    132.009    134.87\n",
       " 2768 │ AAPL    2020-12-30T14:30:00  133.227    133.63     131.085    133.72   ⋯\n",
       "\u001b[36m                                                 3 columns and 2747 rows omitted\u001b[0m"
      ]
     },
     "execution_count": 11,
     "metadata": {},
     "output_type": "execute_result"
    }
   ],
   "source": [
    "# test API call for YFinance\n",
    "data = get_stock_prices(\"AAPL\", \"2010-1-1\", \"2020-12-31\", \"1d\")"
   ]
  },
  {
   "cell_type": "code",
   "execution_count": null,
   "metadata": {},
   "outputs": [],
   "source": [
    "# create a column that calculates returns based on the column close\n",
    "data[!,\"return\"] = vcat(fill(missing, 1), diff(data[!,\"close\"]) ./ data[!,\"close\"][1:end-1]);\n"
   ]
  },
  {
   "cell_type": "code",
   "execution_count": null,
   "metadata": {},
   "outputs": [],
   "source": [
    "data = dropmissing(data, [:SMA1, :SMA2])\n",
    "data[!,\"position\"] = ifelse.(data[!,\"SMA1\"] .> data[!,\"SMA2\"], 1, -1);"
   ]
  },
  {
   "cell_type": "code",
   "execution_count": null,
   "metadata": {},
   "outputs": [],
   "source": [
    "first(data,5)"
   ]
  },
  {
   "cell_type": "code",
   "execution_count": null,
   "metadata": {},
   "outputs": [],
   "source": [
    "using Plots\n",
    "plot(data[!, \"position\"], title = \"EUR Price/SMA Crossover Strategy\", label = \"position\")"
   ]
  },
  {
   "cell_type": "code",
   "execution_count": null,
   "metadata": {},
   "outputs": [],
   "source": [
    "data[!, \"strategy\"] = vcat(missing, data[1:end-1, \"position\"]) .* data[!, \"return\"];"
   ]
  },
  {
   "cell_type": "code",
   "execution_count": null,
   "metadata": {},
   "outputs": [],
   "source": [
    "data = dropmissing(data, [:strategy])"
   ]
  },
  {
   "cell_type": "code",
   "execution_count": null,
   "metadata": {},
   "outputs": [],
   "source": [
    "data[!, \"cumulative_strategy\"] = cumsum(data[!, \"strategy\"])\n",
    "data[!, \"cumulative_return\"] = cumsum(data[!, \"return\"]);"
   ]
  },
  {
   "cell_type": "code",
   "execution_count": null,
   "metadata": {},
   "outputs": [],
   "source": [
    "strategy_performance = data[end,\"cumulative_strategy\"]\n",
    "strategy_outperformance = strategy_performance - data[end,\"cumulative_return\"]"
   ]
  },
  {
   "cell_type": "code",
   "execution_count": 35,
   "metadata": {},
   "outputs": [
    {
     "data": {
      "text/plain": [
       "optimize_parameters (generic function with 2 methods)"
      ]
     },
     "execution_count": 35,
     "metadata": {},
     "output_type": "execute_result"
    }
   ],
   "source": [
    "function backtest_strategy(data, param1, param2)\n",
    "    df = copy(data)\n",
    "    df[!, \"SMA1\"] = vcat(fill(missing, param1 - 1), rolling(mean, df[!, \"close\"], param1))\n",
    "    df[!, \"SMA2\"] = vcat(fill(missing, param2 - 1), rolling(mean, df[!, \"close\"], param2))\n",
    "    df[!,\"return\"] = vcat(fill(missing, 1), diff(df[!,\"close\"]) ./ df[!,\"close\"][1:end-1]);\n",
    "    df = dropmissing(df, [:SMA1, :SMA2])\n",
    "    df[!,\"position\"] = ifelse.(df[!,\"SMA1\"] .> df[!,\"SMA2\"], 1, -1);\n",
    "    df[!, \"strategy\"] = vcat(missing, df[1:end-1, \"position\"]) .* df[!, \"return\"];\n",
    "    df = dropmissing(df, [:strategy])\n",
    "    df[!, \"cumulative_strategy\"] = cumsum(df[!, \"strategy\"])\n",
    "    df[!, \"cumulative_return\"] = cumsum(df[!, \"return\"]);\n",
    "    # Calculate performance and outperformance\n",
    "    strategy_performance = df[end, \"cumulative_strategy\"]\n",
    "    strategy_outperformance = strategy_performance - df[end, \"cumulative_return\"]\n",
    "    return strategy_performance, strategy_outperformance\n",
    "end\n",
    "\n",
    "function optimize_parameters(min_param1, max_param1, step_size1, min_param2, max_param2,step_size2)\n",
    "    best_param1 = min_param1\n",
    "    best_param2 = min_param2\n",
    "    max_outperformance = -Inf\n",
    "\n",
    "    # Call get_stock_prices once before the loop\n",
    "    data = get_stock_prices(\"AAPL\", \"2010-01-01\", \"2020-12-31\", \"1d\")\n",
    "\n",
    "    for param1 in range(min_param1, stop=max_param1, step=step_size1)\n",
    "        for param2 in range(min_param2, stop=max_param2, step=step_size2)\n",
    "            strategy_performance, strategy_outperformance = backtest_strategy(data, param1, param2)\n",
    "\n",
    "            # Update best parameters if outperformance is higher\n",
    "            if strategy_outperformance > max_outperformance\n",
    "                max_outperformance = strategy_outperformance\n",
    "                println(\"New best outperformance: \", max_outperformance)\n",
    "                best_param1 = param1\n",
    "                best_param2 = param2\n",
    "            end\n",
    "        end\n",
    "    end\n",
    "\n",
    "    return (best_param1, best_param2)\n",
    "end"
   ]
  },
  {
   "cell_type": "code",
   "execution_count": 36,
   "metadata": {},
   "outputs": [
    {
     "name": "stdout",
     "output_type": "stream",
     "text": [
      "New best outperformance: -0.36734823032134667\n",
      "New best outperformance: -0.3526043210215928\n",
      "  0.518708 seconds (7.14 M allocations: 811.012 MiB, 9.19% gc time, 0.79% compilation time)\n"
     ]
    },
    {
     "data": {
      "text/plain": [
       "(42, 253)"
      ]
     },
     "execution_count": 36,
     "metadata": {},
     "output_type": "execute_result"
    }
   ],
   "source": [
    "@time optimize_parameters(42, 56, 1, 252, 300, 1)"
   ]
  },
  {
   "cell_type": "code",
   "execution_count": 46,
   "metadata": {},
   "outputs": [
    {
     "data": {
      "text/plain": [
       "backtest_sma_strategy (generic function with 1 method)"
      ]
     },
     "execution_count": 46,
     "metadata": {},
     "output_type": "execute_result"
    }
   ],
   "source": [
    "using DataFrames, RollingFunctions\n",
    "\n",
    "function calculate_sma(df::DataFrame, window::Int)\n",
    "    return vcat(fill(missing, window - 1), rollmean(df[!, :close], window))\n",
    "end\n",
    "\n",
    "function backtest_sma_strategy(df::DataFrame, short_window::Int, long_window::Int)\n",
    "    df = copy(df)\n",
    "    df[!, :ShortSMA] = calculate_sma(df, short_window)\n",
    "    df[!, :LongSMA] = calculate_sma(df, long_window)\n",
    "    df = dropmissing(df, [:ShortSMA, :LongSMA])\n",
    "    df[!, :Signal] = ifelse.(df[!,\"ShortSMA\"] .> df[!,\"LongSMA\"], 1, -1)\n",
    "    df[!, :MarketReturn] = [missing; diff(df[!, :close]) ./ df[1:end-1, :close]]\n",
    "    df[!, :StrategyReturn] = df[!, :MarketReturn] .* df[!, :Signal]\n",
    "    df = dropmissing(df)\n",
    "    return df\n",
    "end"
   ]
  },
  {
   "cell_type": "code",
   "execution_count": 61,
   "metadata": {},
   "outputs": [
    {
     "name": "stdout",
     "output_type": "stream",
     "text": [
      "Best parameters: 44, 252\n",
      "Best return: 2.598210645596513\n"
     ]
    }
   ],
   "source": [
    "function optimize_parameters(df::DataFrame, min_short::Int, max_short::Int, min_long::Int, max_long::Int)\n",
    "    best_short = min_short\n",
    "    best_long = min_long\n",
    "    best_return = -Inf\n",
    "\n",
    "    for short_window in min_short:max_short\n",
    "        for long_window in min_long:max_long\n",
    "            result = backtest_sma_strategy(df, short_window, long_window)\n",
    "            result[!, :CumulativeMarketReturn] = cumsum(result[!, :MarketReturn])\n",
    "            result[!, :CumulativeStrategyReturn] = cumsum(result[!, :StrategyReturn])\n",
    "            # strategy_return = sum(result[!, :StrategyReturn])\n",
    "            if result[end, :CumulativeStrategyReturn] > best_return\n",
    "                best_return = result[end, :CumulativeStrategyReturn]\n",
    "                best_short = short_window\n",
    "                best_long = long_window\n",
    "            end\n",
    "        end\n",
    "    end\n",
    "\n",
    "    return best_short, best_long, best_return\n",
    "end\n",
    "\n",
    "\n",
    "df = get_stock_prices(\"AAPL\", \"2010-01-01\", \"2023-12-31\", \"1d\")  # Replace with your function to get stock prices\n",
    "best_short, best_long, best_return = optimize_parameters(df, 42, 56, 252, 300)\n",
    "println(\"Best parameters: \", best_short, \", \", best_long)\n",
    "println(\"Best return: \", best_return)"
   ]
  },
  {
   "cell_type": "code",
   "execution_count": 40,
   "metadata": {},
   "outputs": [
    {
     "ename": "LoadError",
     "evalue": "InexactError: Int64(NaN)",
     "output_type": "error",
     "traceback": [
      "InexactError: Int64(NaN)",
      "",
      "Stacktrace:",
      " [1] Int64(x::Float64)",
      "   @ Base ./float.jl:909",
      " [2] x_of_nans(x::Vector{Int64}, Tf::Type{Int64})",
      "   @ NLSolversBase ~/.julia/packages/NLSolversBase/kavn7/src/NLSolversBase.jl:60",
      " [3] alloc_DF(x::Vector{Int64}, F::Int64)",
      "   @ NLSolversBase ~/.julia/packages/NLSolversBase/kavn7/src/objective_types/abstract.jl:22",
      " [4] optimize(f::Function, l::Vector{Int64}, u::Vector{Int64}, initial_x::Vector{Int64}, F::Fminbox{LBFGS{Nothing, LineSearches.InitialStatic{Float64}, LineSearches.HagerZhang{Float64, Base.RefValue{Bool}}, Optim.var\"#19#21\"}, Float64, Optim.var\"#51#53\"}, options::Optim.Options{Float64, Nothing}; inplace::Bool, autodiff::Symbol)",
      "   @ Optim ~/.julia/packages/Optim/2SmQa/src/multivariate/solvers/constrained/fminbox.jl:268",
      " [5] optimize(f::Function, l::Vector{Int64}, u::Vector{Int64}, initial_x::Vector{Int64}, F::Fminbox{LBFGS{Nothing, LineSearches.InitialStatic{Float64}, LineSearches.HagerZhang{Float64, Base.RefValue{Bool}}, Optim.var\"#19#21\"}, Float64, Optim.var\"#51#53\"}, options::Optim.Options{Float64, Nothing})",
      "   @ Optim ~/.julia/packages/Optim/2SmQa/src/multivariate/solvers/constrained/fminbox.jl:259",
      " [6] optimize_parameters(data::DataFrame)",
      "   @ Main ./In[38]:13",
      " [7] top-level scope",
      "   @ In[40]:3"
     ]
    }
   ],
   "source": [
    "\n",
    "data = get_stock_prices(\"AAPL\", \"2010-01-01\", \"2020-12-31\", \"1d\")  # Replace with your function to get stock prices\n",
    "best_params = optimize_parameters(data)\n",
    "println(\"Best parameters: \", best_params)"
   ]
  }
 ],
 "metadata": {
  "kernelspec": {
   "display_name": "Julia 1.10.0",
   "language": "julia",
   "name": "julia-1.10"
  },
  "language_info": {
   "file_extension": ".jl",
   "mimetype": "application/julia",
   "name": "julia",
   "version": "1.10.0"
  }
 },
 "nbformat": 4,
 "nbformat_minor": 2
}
