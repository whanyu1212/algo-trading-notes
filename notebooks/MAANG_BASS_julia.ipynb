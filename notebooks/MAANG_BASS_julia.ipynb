{
 "cells": [
  {
   "cell_type": "code",
   "execution_count": 1,
   "metadata": {},
   "outputs": [
    {
     "name": "stderr",
     "output_type": "stream",
     "text": [
      "\u001b[32m\u001b[1m  Activating\u001b[22m\u001b[39m project at `/workspaces/algo-trading-notes`\n",
      "\u001b[32m\u001b[1m    Building\u001b[22m\u001b[39m Conda ─→ `~/.julia/scratchspaces/44cfe95a-1eb2-52ea-b672-e2afdf69b78f/51cab8e982c5b598eea9c8ceaced4b58d9dd37c9/build.log`\n",
      "\u001b[32m\u001b[1m    Building\u001b[22m\u001b[39m PyCall → `~/.julia/scratchspaces/44cfe95a-1eb2-52ea-b672-e2afdf69b78f/9816a3826b0ebf49ab4926e2b18842ad8b5c8f04/build.log`\n"
     ]
    }
   ],
   "source": [
    "using Pkg\n",
    "Pkg.activate(\"../\")\n",
    "\n",
    "ENV[\"PYTHON\"] = \"/home/codespace/.cache/pypoetry/virtualenvs/algo-trading-notes-oovsq9PL-py3.11\"\n",
    "Pkg.build(\"PyCall\")\n"
   ]
  },
  {
   "cell_type": "code",
   "execution_count": 2,
   "metadata": {},
   "outputs": [],
   "source": [
    "using YFinance\n",
    "using Dates\n",
    "using DataFrames\n",
    "using GLM\n",
    "using Statistics"
   ]
  },
  {
   "cell_type": "code",
   "execution_count": 3,
   "metadata": {},
   "outputs": [
    {
     "data": {
      "text/plain": [
       "OrderedCollections.OrderedDict{String, Any} with 8 entries:\n",
       "  \"ticker\"    => \"AAPL\"\n",
       "  \"timestamp\" => [DateTime(\"2023-01-30T14:30:00\"), DateTime(\"2023-01-31T14:30:0…\n",
       "  \"open\"      => [144.154, 141.907, 143.17, 148.072, 147.207, 151.722, 149.803,…\n",
       "  \"high\"      => [144.741, 143.538, 145.795, 150.34, 156.505, 152.249, 154.367,…\n",
       "  \"low\"       => [142.056, 141.489, 140.534, 147.346, 147.008, 149.942, 149.803…\n",
       "  \"close\"     => [143.0, 144.29, 145.43, 150.82, 154.5, 151.73, 154.65, 151.92,…\n",
       "  \"adjclose\"  => [142.205, 143.488, 144.622, 149.982, 153.641, 150.887, 153.79,…\n",
       "  \"vol\"       => [6.36595e7, 6.55083e7, 7.72319e7, 1.17681e8, 1.53499e8, 6.947e…"
      ]
     },
     "execution_count": 3,
     "metadata": {},
     "output_type": "execute_result"
    }
   ],
   "source": [
    "# using both range (relative to today) or startdt & enddt works\n",
    "get_prices(\"AAPL\",startdt=\"2023-01-30\",enddt=\"2024-01-30\",interval=\"1d\")"
   ]
  },
  {
   "cell_type": "code",
   "execution_count": 4,
   "metadata": {},
   "outputs": [
    {
     "data": {
      "text/html": [
       "<div><div style = \"float: left;\"><span>10×8 DataFrame</span></div><div style = \"clear: both;\"></div></div><div class = \"data-frame\" style = \"overflow-x: scroll;\"><table class = \"data-frame\" style = \"margin-bottom: 6px;\"><thead><tr class = \"header\"><th class = \"rowNumber\" style = \"font-weight: bold; text-align: right;\">Row</th><th style = \"text-align: left;\">ticker</th><th style = \"text-align: left;\">timestamp</th><th style = \"text-align: left;\">open</th><th style = \"text-align: left;\">high</th><th style = \"text-align: left;\">low</th><th style = \"text-align: left;\">close</th><th style = \"text-align: left;\">adjclose</th><th style = \"text-align: left;\">vol</th></tr><tr class = \"subheader headerLastRow\"><th class = \"rowNumber\" style = \"font-weight: bold; text-align: right;\"></th><th title = \"String\" style = \"text-align: left;\">String</th><th title = \"DateTime\" style = \"text-align: left;\">DateTime</th><th title = \"Float64\" style = \"text-align: left;\">Float64</th><th title = \"Float64\" style = \"text-align: left;\">Float64</th><th title = \"Float64\" style = \"text-align: left;\">Float64</th><th title = \"Float64\" style = \"text-align: left;\">Float64</th><th title = \"Float64\" style = \"text-align: left;\">Float64</th><th title = \"Float64\" style = \"text-align: left;\">Float64</th></tr></thead><tbody><tr><td class = \"rowNumber\" style = \"font-weight: bold; text-align: right;\">1</td><td style = \"text-align: left;\">AAPL</td><td style = \"text-align: left;\">2023-01-31T14:30:00</td><td style = \"text-align: right;\">141.907</td><td style = \"text-align: right;\">143.538</td><td style = \"text-align: right;\">141.489</td><td style = \"text-align: right;\">144.29</td><td style = \"text-align: right;\">143.488</td><td style = \"text-align: right;\">6.55083e7</td></tr><tr><td class = \"rowNumber\" style = \"font-weight: bold; text-align: right;\">2</td><td style = \"text-align: left;\">AAPL</td><td style = \"text-align: left;\">2023-02-01T14:30:00</td><td style = \"text-align: right;\">143.17</td><td style = \"text-align: right;\">145.795</td><td style = \"text-align: right;\">140.534</td><td style = \"text-align: right;\">145.43</td><td style = \"text-align: right;\">144.622</td><td style = \"text-align: right;\">7.72319e7</td></tr><tr><td class = \"rowNumber\" style = \"font-weight: bold; text-align: right;\">3</td><td style = \"text-align: left;\">AAPL</td><td style = \"text-align: left;\">2023-02-02T14:30:00</td><td style = \"text-align: right;\">148.072</td><td style = \"text-align: right;\">150.34</td><td style = \"text-align: right;\">147.346</td><td style = \"text-align: right;\">150.82</td><td style = \"text-align: right;\">149.982</td><td style = \"text-align: right;\">1.17681e8</td></tr><tr><td class = \"rowNumber\" style = \"font-weight: bold; text-align: right;\">4</td><td style = \"text-align: left;\">AAPL</td><td style = \"text-align: left;\">2023-02-03T14:30:00</td><td style = \"text-align: right;\">147.207</td><td style = \"text-align: right;\">156.505</td><td style = \"text-align: right;\">147.008</td><td style = \"text-align: right;\">154.5</td><td style = \"text-align: right;\">153.641</td><td style = \"text-align: right;\">1.53499e8</td></tr><tr><td class = \"rowNumber\" style = \"font-weight: bold; text-align: right;\">5</td><td style = \"text-align: left;\">AAPL</td><td style = \"text-align: left;\">2023-02-06T14:30:00</td><td style = \"text-align: right;\">151.722</td><td style = \"text-align: right;\">152.249</td><td style = \"text-align: right;\">149.942</td><td style = \"text-align: right;\">151.73</td><td style = \"text-align: right;\">150.887</td><td style = \"text-align: right;\">6.947e7</td></tr><tr><td class = \"rowNumber\" style = \"font-weight: bold; text-align: right;\">6</td><td style = \"text-align: left;\">AAPL</td><td style = \"text-align: left;\">2023-02-07T14:30:00</td><td style = \"text-align: right;\">149.803</td><td style = \"text-align: right;\">154.367</td><td style = \"text-align: right;\">149.803</td><td style = \"text-align: right;\">154.65</td><td style = \"text-align: right;\">153.79</td><td style = \"text-align: right;\">8.28595e7</td></tr><tr><td class = \"rowNumber\" style = \"font-weight: bold; text-align: right;\">7</td><td style = \"text-align: left;\">AAPL</td><td style = \"text-align: left;\">2023-02-08T14:30:00</td><td style = \"text-align: right;\">153.025</td><td style = \"text-align: right;\">153.721</td><td style = \"text-align: right;\">150.33</td><td style = \"text-align: right;\">151.92</td><td style = \"text-align: right;\">151.076</td><td style = \"text-align: right;\">6.37637e7</td></tr><tr><td class = \"rowNumber\" style = \"font-weight: bold; text-align: right;\">8</td><td style = \"text-align: left;\">AAPL</td><td style = \"text-align: left;\">2023-02-09T14:30:00</td><td style = \"text-align: right;\">152.925</td><td style = \"text-align: right;\">153.472</td><td style = \"text-align: right;\">149.584</td><td style = \"text-align: right;\">150.87</td><td style = \"text-align: right;\">150.031</td><td style = \"text-align: right;\">5.56958e7</td></tr><tr><td class = \"rowNumber\" style = \"font-weight: bold; text-align: right;\">9</td><td style = \"text-align: left;\">AAPL</td><td style = \"text-align: left;\">2023-02-10T14:30:00</td><td style = \"text-align: right;\">148.856</td><td style = \"text-align: right;\">150.729</td><td style = \"text-align: right;\">148.617</td><td style = \"text-align: right;\">151.01</td><td style = \"text-align: right;\">150.4</td><td style = \"text-align: right;\">5.72186e7</td></tr><tr><td class = \"rowNumber\" style = \"font-weight: bold; text-align: right;\">10</td><td style = \"text-align: left;\">AAPL</td><td style = \"text-align: left;\">2023-02-13T14:30:00</td><td style = \"text-align: right;\">150.34</td><td style = \"text-align: right;\">153.637</td><td style = \"text-align: right;\">150.31</td><td style = \"text-align: right;\">153.85</td><td style = \"text-align: right;\">153.228</td><td style = \"text-align: right;\">6.19477e7</td></tr></tbody></table></div>"
      ],
      "text/latex": [
       "\\begin{tabular}{r|cccccccc}\n",
       "\t& ticker & timestamp & open & high & low & close & adjclose & vol\\\\\n",
       "\t\\hline\n",
       "\t& String & DateTime & Float64 & Float64 & Float64 & Float64 & Float64 & Float64\\\\\n",
       "\t\\hline\n",
       "\t1 & AAPL & 2023-01-31T14:30:00 & 141.907 & 143.538 & 141.489 & 144.29 & 143.488 & 6.55083e7 \\\\\n",
       "\t2 & AAPL & 2023-02-01T14:30:00 & 143.17 & 145.795 & 140.534 & 145.43 & 144.622 & 7.72319e7 \\\\\n",
       "\t3 & AAPL & 2023-02-02T14:30:00 & 148.072 & 150.34 & 147.346 & 150.82 & 149.982 & 1.17681e8 \\\\\n",
       "\t4 & AAPL & 2023-02-03T14:30:00 & 147.207 & 156.505 & 147.008 & 154.5 & 153.641 & 1.53499e8 \\\\\n",
       "\t5 & AAPL & 2023-02-06T14:30:00 & 151.722 & 152.249 & 149.942 & 151.73 & 150.887 & 6.947e7 \\\\\n",
       "\t6 & AAPL & 2023-02-07T14:30:00 & 149.803 & 154.367 & 149.803 & 154.65 & 153.79 & 8.28595e7 \\\\\n",
       "\t7 & AAPL & 2023-02-08T14:30:00 & 153.025 & 153.721 & 150.33 & 151.92 & 151.076 & 6.37637e7 \\\\\n",
       "\t8 & AAPL & 2023-02-09T14:30:00 & 152.925 & 153.472 & 149.584 & 150.87 & 150.031 & 5.56958e7 \\\\\n",
       "\t9 & AAPL & 2023-02-10T14:30:00 & 148.856 & 150.729 & 148.617 & 151.01 & 150.4 & 5.72186e7 \\\\\n",
       "\t10 & AAPL & 2023-02-13T14:30:00 & 150.34 & 153.637 & 150.31 & 153.85 & 153.228 & 6.19477e7 \\\\\n",
       "\\end{tabular}\n"
      ],
      "text/plain": [
       "\u001b[1m10×8 DataFrame\u001b[0m\n",
       "\u001b[1m Row \u001b[0m│\u001b[1m ticker \u001b[0m\u001b[1m timestamp           \u001b[0m\u001b[1m open    \u001b[0m\u001b[1m high    \u001b[0m\u001b[1m low     \u001b[0m\u001b[1m close   \u001b[0m\u001b[1m adjclo\u001b[0m ⋯\n",
       "     │\u001b[90m String \u001b[0m\u001b[90m DateTime            \u001b[0m\u001b[90m Float64 \u001b[0m\u001b[90m Float64 \u001b[0m\u001b[90m Float64 \u001b[0m\u001b[90m Float64 \u001b[0m\u001b[90m Float6\u001b[0m ⋯\n",
       "─────┼──────────────────────────────────────────────────────────────────────────\n",
       "   1 │ AAPL    2023-01-31T14:30:00  141.907  143.538  141.489   144.29   143.4 ⋯\n",
       "   2 │ AAPL    2023-02-01T14:30:00  143.17   145.795  140.534   145.43   144.6\n",
       "   3 │ AAPL    2023-02-02T14:30:00  148.072  150.34   147.346   150.82   149.9\n",
       "   4 │ AAPL    2023-02-03T14:30:00  147.207  156.505  147.008   154.5    153.6\n",
       "   5 │ AAPL    2023-02-06T14:30:00  151.722  152.249  149.942   151.73   150.8 ⋯\n",
       "   6 │ AAPL    2023-02-07T14:30:00  149.803  154.367  149.803   154.65   153.7\n",
       "   7 │ AAPL    2023-02-08T14:30:00  153.025  153.721  150.33    151.92   151.0\n",
       "   8 │ AAPL    2023-02-09T14:30:00  152.925  153.472  149.584   150.87   150.0\n",
       "   9 │ AAPL    2023-02-10T14:30:00  148.856  150.729  148.617   151.01   150.4 ⋯\n",
       "  10 │ AAPL    2023-02-13T14:30:00  150.34   153.637  150.31    153.85   153.2\n",
       "\u001b[36m                                                               2 columns omitted\u001b[0m"
      ]
     },
     "execution_count": 4,
     "metadata": {},
     "output_type": "execute_result"
    }
   ],
   "source": [
    "first(DataFrame(get_prices(\"AAPL\",range=\"1y\",interval=\"1d\")),10)"
   ]
  },
  {
   "cell_type": "code",
   "execution_count": 5,
   "metadata": {},
   "outputs": [
    {
     "data": {
      "text/plain": [
       "get_stock_prices (generic function with 1 method)"
      ]
     },
     "execution_count": 5,
     "metadata": {},
     "output_type": "execute_result"
    }
   ],
   "source": [
    "function get_stock_prices(ticker::String, startdt::String, enddt::String, interval::String)\n",
    "    data_ordered_dict = get_prices(ticker, startdt=startdt, enddt=enddt, interval=interval)\n",
    "    df = DataFrame(data_ordered_dict)\n",
    "    return df\n",
    "end"
   ]
  },
  {
   "cell_type": "code",
   "execution_count": 6,
   "metadata": {},
   "outputs": [
    {
     "data": {
      "text/plain": [
       "Dict{String, DataFrame}()"
      ]
     },
     "execution_count": 6,
     "metadata": {},
     "output_type": "execute_result"
    }
   ],
   "source": [
    "dataframes_dict = Dict{String, DataFrame}()"
   ]
  },
  {
   "cell_type": "code",
   "execution_count": 7,
   "metadata": {},
   "outputs": [],
   "source": [
    "tickerSymbols = [\"META\", \"AAPL\", \"AMZN\", \"NFLX\", \"GOOGL\",\"^GSPC\"];\n",
    "MAANG = [\"META\", \"AAPL\", \"AMZN\", \"NFLX\", \"GOOGL\"];"
   ]
  },
  {
   "cell_type": "code",
   "execution_count": 8,
   "metadata": {},
   "outputs": [],
   "source": [
    "for tick in tickerSymbols\n",
    "    temp_df = get_stock_prices(tick, \"2023-01-30\", \"2024-01-30\", \"1d\")\n",
    "    subset_df = select(temp_df, [:ticker, :timestamp, :close])\n",
    "    subset_df[!, \"Return\"] = vcat(NaN, diff(subset_df[!, \"close\"]) ./ subset_df[1:end-1, \"close\"])\n",
    "    dataframes_dict[tick] = subset_df\n",
    "end"
   ]
  },
  {
   "cell_type": "code",
   "execution_count": 9,
   "metadata": {},
   "outputs": [
    {
     "data": {
      "text/plain": [
       "Dict{String, DataFrame} with 6 entries:\n",
       "  \"GOOGL\" => \u001b[1m251×4 DataFrame\u001b[0m\u001b[0m…\n",
       "  \"META\"  => \u001b[1m251×4 DataFrame\u001b[0m\u001b[0m…\n",
       "  \"AMZN\"  => \u001b[1m251×4 DataFrame\u001b[0m\u001b[0m…\n",
       "  \"^GSPC\" => \u001b[1m251×4 DataFrame\u001b[0m\u001b[0m…\n",
       "  \"NFLX\"  => \u001b[1m251×4 DataFrame\u001b[0m\u001b[0m…\n",
       "  \"AAPL\"  => \u001b[1m251×4 DataFrame\u001b[0m\u001b[0m…"
      ]
     },
     "execution_count": 9,
     "metadata": {},
     "output_type": "execute_result"
    }
   ],
   "source": [
    "dataframes_dict"
   ]
  },
  {
   "cell_type": "code",
   "execution_count": 10,
   "metadata": {},
   "outputs": [],
   "source": [
    "for ticker in MAANG\n",
    "    dataframes_dict[ticker][!,\"GSPC_Return\"] = dataframes_dict[\"^GSPC\"][!,\"Return\"]\n",
    "    dataframes_dict[ticker] = filter(row -> isfinite(row[:Return]) && isfinite(row[:GSPC_Return]), dataframes_dict[ticker])\n",
    "end"
   ]
  },
  {
   "cell_type": "code",
   "execution_count": 11,
   "metadata": {},
   "outputs": [],
   "source": [
    "for ticker in MAANG\n",
    "    cleaned_data = dropmissing(dataframes_dict[ticker], [:Return, :GSPC_Return])\n",
    "    model = lm(@formula(Return ~ GSPC_Return), cleaned_data)\n",
    "    beta = coef(model)[2]\n",
    "    alpha = coef(model)[1]\n",
    "    dataframes_dict[ticker][!,\"Beta\"] .= beta\n",
    "    dataframes_dict[ticker][!,\"Alpha\"] .= alpha\n",
    "    dataframes_dict[ticker][!,\"Sharpe_Ratio\"] .= sqrt(252) * mean(dataframes_dict[ticker][!,\"Return\"]) / std(dataframes_dict[ticker][!,\"Return\"])\n",
    "end"
   ]
  },
  {
   "cell_type": "code",
   "execution_count": 12,
   "metadata": {},
   "outputs": [],
   "source": [
    "rows_list = []\n",
    "for ticker in MAANG\n",
    "    dict1 = Dict()\n",
    "    dict1[\"Ticker_name\"] = ticker\n",
    "    dict1[\"Beta\"] = mean(dataframes_dict[ticker][!,\"Beta\"])\n",
    "    dict1[\"Alpha\"] = mean(dataframes_dict[ticker][!,\"Alpha\"])\n",
    "    dict1[\"Sharpe_Ratio\"] = mean(dataframes_dict[ticker][!,\"Sharpe_Ratio\"])\n",
    "    push!(rows_list, dict1)\n",
    "end"
   ]
  },
  {
   "cell_type": "code",
   "execution_count": 13,
   "metadata": {},
   "outputs": [
    {
     "data": {
      "text/html": [
       "<div><div style = \"float: left;\"><span>5×4 DataFrame</span></div><div style = \"clear: both;\"></div></div><div class = \"data-frame\" style = \"overflow-x: scroll;\"><table class = \"data-frame\" style = \"margin-bottom: 6px;\"><thead><tr class = \"header\"><th class = \"rowNumber\" style = \"font-weight: bold; text-align: right;\">Row</th><th style = \"text-align: left;\">Alpha</th><th style = \"text-align: left;\">Beta</th><th style = \"text-align: left;\">Sharpe_Ratio</th><th style = \"text-align: left;\">Ticker_name</th></tr><tr class = \"subheader headerLastRow\"><th class = \"rowNumber\" style = \"font-weight: bold; text-align: right;\"></th><th title = \"Float64\" style = \"text-align: left;\">Float64</th><th title = \"Float64\" style = \"text-align: left;\">Float64</th><th title = \"Float64\" style = \"text-align: left;\">Float64</th><th title = \"String\" style = \"text-align: left;\">String</th></tr></thead><tbody><tr><td class = \"rowNumber\" style = \"font-weight: bold; text-align: right;\">1</td><td style = \"text-align: right;\">0.00275073</td><td style = \"text-align: right;\">1.83557</td><td style = \"text-align: right;\">2.76483</td><td style = \"text-align: left;\">META</td></tr><tr><td class = \"rowNumber\" style = \"font-weight: bold; text-align: right;\">2</td><td style = \"text-align: right;\">0.000299918</td><td style = \"text-align: right;\">1.12279</td><td style = \"text-align: right;\">1.58055</td><td style = \"text-align: left;\">AAPL</td></tr><tr><td class = \"rowNumber\" style = \"font-weight: bold; text-align: right;\">3</td><td style = \"text-align: right;\">0.000803329</td><td style = \"text-align: right;\">1.51663</td><td style = \"text-align: right;\">1.65906</td><td style = \"text-align: left;\">AMZN</td></tr><tr><td class = \"rowNumber\" style = \"font-weight: bold; text-align: right;\">4</td><td style = \"text-align: right;\">0.00116793</td><td style = \"text-align: right;\">1.252</td><td style = \"text-align: right;\">1.49482</td><td style = \"text-align: left;\">NFLX</td></tr><tr><td class = \"rowNumber\" style = \"font-weight: bold; text-align: right;\">5</td><td style = \"text-align: right;\">0.000825884</td><td style = \"text-align: right;\">1.39736</td><td style = \"text-align: right;\">1.72693</td><td style = \"text-align: left;\">GOOGL</td></tr></tbody></table></div>"
      ],
      "text/latex": [
       "\\begin{tabular}{r|cccc}\n",
       "\t& Alpha & Beta & Sharpe\\_Ratio & Ticker\\_name\\\\\n",
       "\t\\hline\n",
       "\t& Float64 & Float64 & Float64 & String\\\\\n",
       "\t\\hline\n",
       "\t1 & 0.00275073 & 1.83557 & 2.76483 & META \\\\\n",
       "\t2 & 0.000299918 & 1.12279 & 1.58055 & AAPL \\\\\n",
       "\t3 & 0.000803329 & 1.51663 & 1.65906 & AMZN \\\\\n",
       "\t4 & 0.00116793 & 1.252 & 1.49482 & NFLX \\\\\n",
       "\t5 & 0.000825884 & 1.39736 & 1.72693 & GOOGL \\\\\n",
       "\\end{tabular}\n"
      ],
      "text/plain": [
       "\u001b[1m5×4 DataFrame\u001b[0m\n",
       "\u001b[1m Row \u001b[0m│\u001b[1m Alpha       \u001b[0m\u001b[1m Beta    \u001b[0m\u001b[1m Sharpe_Ratio \u001b[0m\u001b[1m Ticker_name \u001b[0m\n",
       "     │\u001b[90m Float64     \u001b[0m\u001b[90m Float64 \u001b[0m\u001b[90m Float64      \u001b[0m\u001b[90m String      \u001b[0m\n",
       "─────┼─────────────────────────────────────────────────\n",
       "   1 │ 0.00275073   1.83557       2.76483  META\n",
       "   2 │ 0.000299918  1.12279       1.58055  AAPL\n",
       "   3 │ 0.000803329  1.51663       1.65906  AMZN\n",
       "   4 │ 0.00116793   1.252         1.49482  NFLX\n",
       "   5 │ 0.000825884  1.39736       1.72693  GOOGL"
      ]
     },
     "execution_count": 13,
     "metadata": {},
     "output_type": "execute_result"
    }
   ],
   "source": [
    "df = DataFrame()\n",
    "\n",
    "for row in rows_list\n",
    "    temp_df = DataFrame(row)\n",
    "    df = vcat(df, temp_df)\n",
    "end\n",
    "\n",
    "df"
   ]
  },
  {
   "cell_type": "code",
   "execution_count": 14,
   "metadata": {},
   "outputs": [
    {
     "name": "stdout",
     "output_type": "stream",
     "text": [
      "Best risk weighted return: META\n"
     ]
    }
   ],
   "source": [
    "println(\"Best risk weighted return: \", df[findmax(df[!,\"Sharpe_Ratio\"])[2],:][\"Ticker_name\"])"
   ]
  },
  {
   "cell_type": "code",
   "execution_count": 15,
   "metadata": {},
   "outputs": [
    {
     "name": "stdout",
     "output_type": "stream",
     "text": [
      "Weighted average beta: 1.4248693421480896\n"
     ]
    }
   ],
   "source": [
    "println(\"Weighted average beta: \", mean(df[!,\"Beta\"]))"
   ]
  },
  {
   "cell_type": "code",
   "execution_count": 16,
   "metadata": {},
   "outputs": [],
   "source": [
    "dataframes_dict[\"^GSPC\"] = filter(row -> isfinite(row[:Return]),dataframes_dict[\"^GSPC\"]);"
   ]
  },
  {
   "cell_type": "code",
   "execution_count": 17,
   "metadata": {},
   "outputs": [
    {
     "data": {
      "text/plain": [
       "250×6 Matrix{Float64}:\n",
       "  0.0129879     0.00902093    0.0256588    …   0.0195997     0.0146425\n",
       "  0.0278579     0.00790075    0.019587         0.0160866     0.0104523\n",
       "  0.232824      0.0370626     0.0737994        0.072787      0.0146994\n",
       " -0.0118663     0.0243999    -0.084315        -0.0274735    -0.0103546\n",
       " -0.00251971   -0.0179288    -0.0117033       -0.0179423    -0.00614046\n",
       "  0.0298828     0.0192447    -0.000685063  …   0.0460641     0.0128725\n",
       " -0.0427409    -0.0176527    -0.0201743       -0.0768301    -0.0110807\n",
       " -0.0300387    -0.00691155   -0.018091        -0.0438764    -0.0088298\n",
       " -0.0211893     0.000927947  -0.00641284      -0.00463112    0.00219526\n",
       "  0.0303187     0.0188068     0.0197726        0.000422977   0.0114486\n",
       "  0.000278677  -0.00422495    0.00160735   …   0.000739876  -0.000280415\n",
       " -0.0129262     0.0139034     0.014644         0.0238699     0.00277318\n",
       " -0.0266426    -0.0104294    -0.0297549       -0.0147514    -0.0137887\n",
       "  ⋮                                        ⋱                 ⋮\n",
       " -0.00215939   -0.00322255    0.0094321       -0.00140566   -0.000671056\n",
       "  0.0130386     0.00177812   -0.0036087        0.00401177    0.000750976\n",
       " -0.0187722    -0.0123171    -0.00944245   …  -0.00112155   -0.00373134\n",
       "  0.00247647   -0.00517351   -0.0094672       -0.00715843   -0.0056169\n",
       "  0.0210658     0.0325707     0.0117988        0.0142079     0.00880526\n",
       "  0.0194614     0.015533      0.0119869        0.0202119     0.0123135\n",
       " -0.00435523    0.0121633    -0.00360498      -0.00266429    0.00219433\n",
       "  0.00895807    0.00665322    0.00801141   …   0.00719219    0.00292137\n",
       "  0.0142783    -0.00348393    0.00544796       0.0112895     0.000811928\n",
       "  0.00634753   -0.00169667    0.00560977       0.0213181     0.00526037\n",
       "  0.00244169   -0.00901272    0.0086846        0.00210711   -0.000651785\n",
       "  0.0174557    -0.00358592    0.013449         0.00867332    0.00755677"
      ]
     },
     "execution_count": 17,
     "metadata": {},
     "output_type": "execute_result"
    }
   ],
   "source": [
    "df = hcat(dataframes_dict[\"META\"][!,\"Return\"], dataframes_dict[\"AAPL\"][!,\"Return\"], dataframes_dict[\"AMZN\"][!,\"Return\"], dataframes_dict[\"NFLX\"][!,\"Return\"], dataframes_dict[\"GOOGL\"][!,\"Return\"], dataframes_dict[\"^GSPC\"][!,\"Return\"])"
   ]
  },
  {
   "cell_type": "code",
   "execution_count": 18,
   "metadata": {},
   "outputs": [
    {
     "data": {
      "text/plain": [
       "6×6 Matrix{Float64}:\n",
       " 1.0       0.534463  0.594361  0.31462   0.609519  0.587586\n",
       " 0.534463  1.0       0.423564  0.391779  0.51434   0.706743\n",
       " 0.594361  0.423564  1.0       0.359034  0.595888  0.600497\n",
       " 0.31462   0.391779  0.359034  1.0       0.319017  0.418581\n",
       " 0.609519  0.51434   0.595888  0.319017  1.0       0.59842\n",
       " 0.587586  0.706743  0.600497  0.418581  0.59842   1.0"
      ]
     },
     "execution_count": 18,
     "metadata": {},
     "output_type": "execute_result"
    }
   ],
   "source": [
    "cor(df)"
   ]
  }
 ],
 "metadata": {
  "kernelspec": {
   "display_name": "Julia 1.10.0",
   "language": "julia",
   "name": "julia-1.10"
  },
  "language_info": {
   "file_extension": ".jl",
   "mimetype": "application/julia",
   "name": "julia",
   "version": "1.10.0"
  }
 },
 "nbformat": 4,
 "nbformat_minor": 2
}
